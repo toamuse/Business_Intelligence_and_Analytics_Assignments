{
  "nbformat": 4,
  "nbformat_minor": 0,
  "metadata": {
    "colab": {
      "name": "Assignment2_regression_Mosley.ipynb",
      "provenance": [],
      "collapsed_sections": [],
      "include_colab_link": true
    },
    "kernelspec": {
      "display_name": "Python 3",
      "language": "python",
      "name": "python3"
    },
    "language_info": {
      "codemirror_mode": {
        "name": "ipython",
        "version": 3
      },
      "file_extension": ".py",
      "mimetype": "text/x-python",
      "name": "python",
      "nbconvert_exporter": "python",
      "pygments_lexer": "ipython3",
      "version": "3.7.6"
    },
    "nteract": {
      "version": "0.22.4"
    }
  },
  "cells": [
    {
      "cell_type": "markdown",
      "metadata": {
        "id": "view-in-github",
        "colab_type": "text"
      },
      "source": [
        "<a href=\"https://colab.research.google.com/github/toamuse/Business_Intelligence_and_Analytics_Assignments/blob/main/Assignment2_regression_Mosley.ipynb\" target=\"_parent\"><img src=\"https://colab.research.google.com/assets/colab-badge.svg\" alt=\"Open In Colab\"/></a>"
      ]
    },
    {
      "cell_type": "markdown",
      "metadata": {
        "id": "u0QKH8mswk1g"
      },
      "source": [
        "## Assignment 2: Regression and Classification\n",
        "\n",
        "- Due: May 13 @ 23.59\n",
        "- Deliverables: You should submit this notebook in Moodle AND answer the questions in the relevant Quiz in Moodle (your grade depends on the quiz).\n",
        "- Please make sure you fill out the quiz carefully. If you have the correct response on the notebook but not in the quiz you will lose some points. \n",
        "\n",
        "The assignment is about regression over two different datasets (2 parts), then a classification for the third part. Each part is independent, you can proceed to complete the different tasks (**please respect the different indications from the statement and the following hints!!!**). Then you should be able to answer the different questions."
      ]
    },
    {
      "cell_type": "code",
      "metadata": {
        "id": "knk9AfcHwk1i",
        "colab": {
          "base_uri": "https://localhost:8080/",
          "height": 71
        },
        "outputId": "e9534983-9dca-4e93-e326-e4f8ae0202fb"
      },
      "source": [
        "# Useful starting lines\n",
        "%matplotlib inline\n",
        "%load_ext autoreload\n",
        "%autoreload 2\n",
        "\n",
        "#Data processing import\n",
        "import numpy as np\n",
        "import pandas as pd\n",
        "\n",
        "#Set displayed options \n",
        "pd.set_option('display.max_rows', 500)\n",
        "pd.set_option('display.max_columns', 500)\n",
        "pd.set_option('display.width', 1000)\n",
        "\n",
        "#Visualisation import\n",
        "import matplotlib.pyplot as plt\n",
        "import seaborn as sns\n",
        "sns.set_style(\"darkgrid\")\n",
        "\n",
        "# Sklearn import\n",
        "from sklearn.preprocessing import MinMaxScaler # Normalization\n",
        "from sklearn.linear_model import LinearRegression # Regression linear model\n",
        "from sklearn.model_selection import train_test_split # Splitting the data set\n",
        "from sklearn.metrics import mean_squared_error, mean_absolute_error, r2_score # Metrics for errors\n",
        "from sklearn.model_selection import KFold # Cross validation\n",
        "\n",
        "#Suppress warning messages\n",
        "import warnings\n",
        "warnings.filterwarnings('ignore')"
      ],
      "execution_count": null,
      "outputs": [
        {
          "output_type": "stream",
          "text": [
            "/usr/local/lib/python3.6/dist-packages/statsmodels/tools/_testing.py:19: FutureWarning: pandas.util.testing is deprecated. Use the functions in the public API at pandas.testing instead.\n",
            "  import pandas.util.testing as tm\n"
          ],
          "name": "stderr"
        }
      ]
    },
    {
      "cell_type": "markdown",
      "metadata": {
        "id": "xiqS0dc1wk1s"
      },
      "source": [
        "## Part 1: Credit prediction\n",
        "\n",
        "The first part focuses on a credit dataset and contains anonymous credit and banking information. First, we give you the loading and the preprocessing steps before proceeding with the regression."
      ]
    },
    {
      "cell_type": "code",
      "metadata": {
        "id": "ihAuQmYgwk1w",
        "colab": {
          "base_uri": "https://localhost:8080/",
          "height": 479
        },
        "outputId": "f3066ec9-0c44-4f3d-8f47-cd0e1e37a1f1"
      },
      "source": [
        "url = \"https://raw.githubusercontent.com/michalis0/Business-Intelligence-and-Analytics/master/data/Credit.csv\"\n",
        "credits = pd.read_csv(url)\n",
        "display(credits.head())\n",
        "# Observations and columns (dimensions)\n",
        "print(\"Number of observations\", credits.shape[0])\n",
        "print(\"Number of dimensions\", credits.shape[1])\n",
        "#Drop unnamed: 0 columns because useless\n",
        "credits.drop(\"Unnamed: 0\", axis= 1)\n",
        "\n",
        "#Encode the Gender, Student and Married columns to integers for regression\n",
        "credits.replace(to_replace=['Female', ' Male'], value=[0, 1], inplace=True)\n",
        "credits.replace(to_replace=['No', 'Yes'], value=[0, 1], inplace=True)\n",
        "display(credits.head())"
      ],
      "execution_count": null,
      "outputs": [
        {
          "output_type": "display_data",
          "data": {
            "text/html": [
              "<div>\n",
              "<style scoped>\n",
              "    .dataframe tbody tr th:only-of-type {\n",
              "        vertical-align: middle;\n",
              "    }\n",
              "\n",
              "    .dataframe tbody tr th {\n",
              "        vertical-align: top;\n",
              "    }\n",
              "\n",
              "    .dataframe thead th {\n",
              "        text-align: right;\n",
              "    }\n",
              "</style>\n",
              "<table border=\"1\" class=\"dataframe\">\n",
              "  <thead>\n",
              "    <tr style=\"text-align: right;\">\n",
              "      <th></th>\n",
              "      <th>Unnamed: 0</th>\n",
              "      <th>Income</th>\n",
              "      <th>Limit</th>\n",
              "      <th>Rating</th>\n",
              "      <th>Cards</th>\n",
              "      <th>Age</th>\n",
              "      <th>Education</th>\n",
              "      <th>Gender</th>\n",
              "      <th>Student</th>\n",
              "      <th>Married</th>\n",
              "      <th>Ethnicity</th>\n",
              "      <th>Balance</th>\n",
              "    </tr>\n",
              "  </thead>\n",
              "  <tbody>\n",
              "    <tr>\n",
              "      <th>0</th>\n",
              "      <td>1</td>\n",
              "      <td>14.891</td>\n",
              "      <td>3606</td>\n",
              "      <td>283</td>\n",
              "      <td>2</td>\n",
              "      <td>34</td>\n",
              "      <td>11</td>\n",
              "      <td>Male</td>\n",
              "      <td>No</td>\n",
              "      <td>Yes</td>\n",
              "      <td>Caucasian</td>\n",
              "      <td>333</td>\n",
              "    </tr>\n",
              "    <tr>\n",
              "      <th>1</th>\n",
              "      <td>2</td>\n",
              "      <td>106.025</td>\n",
              "      <td>6645</td>\n",
              "      <td>483</td>\n",
              "      <td>3</td>\n",
              "      <td>82</td>\n",
              "      <td>15</td>\n",
              "      <td>Female</td>\n",
              "      <td>Yes</td>\n",
              "      <td>Yes</td>\n",
              "      <td>Asian</td>\n",
              "      <td>903</td>\n",
              "    </tr>\n",
              "    <tr>\n",
              "      <th>2</th>\n",
              "      <td>3</td>\n",
              "      <td>104.593</td>\n",
              "      <td>7075</td>\n",
              "      <td>514</td>\n",
              "      <td>4</td>\n",
              "      <td>71</td>\n",
              "      <td>11</td>\n",
              "      <td>Male</td>\n",
              "      <td>No</td>\n",
              "      <td>No</td>\n",
              "      <td>Asian</td>\n",
              "      <td>580</td>\n",
              "    </tr>\n",
              "    <tr>\n",
              "      <th>3</th>\n",
              "      <td>4</td>\n",
              "      <td>148.924</td>\n",
              "      <td>9504</td>\n",
              "      <td>681</td>\n",
              "      <td>3</td>\n",
              "      <td>36</td>\n",
              "      <td>11</td>\n",
              "      <td>Female</td>\n",
              "      <td>No</td>\n",
              "      <td>No</td>\n",
              "      <td>Asian</td>\n",
              "      <td>964</td>\n",
              "    </tr>\n",
              "    <tr>\n",
              "      <th>4</th>\n",
              "      <td>5</td>\n",
              "      <td>55.882</td>\n",
              "      <td>4897</td>\n",
              "      <td>357</td>\n",
              "      <td>2</td>\n",
              "      <td>68</td>\n",
              "      <td>16</td>\n",
              "      <td>Male</td>\n",
              "      <td>No</td>\n",
              "      <td>Yes</td>\n",
              "      <td>Caucasian</td>\n",
              "      <td>331</td>\n",
              "    </tr>\n",
              "  </tbody>\n",
              "</table>\n",
              "</div>"
            ],
            "text/plain": [
              "   Unnamed: 0   Income  Limit  Rating  Cards  Age  Education  Gender Student Married  Ethnicity  Balance\n",
              "0           1   14.891   3606     283      2   34         11    Male      No     Yes  Caucasian      333\n",
              "1           2  106.025   6645     483      3   82         15  Female     Yes     Yes      Asian      903\n",
              "2           3  104.593   7075     514      4   71         11    Male      No      No      Asian      580\n",
              "3           4  148.924   9504     681      3   36         11  Female      No      No      Asian      964\n",
              "4           5   55.882   4897     357      2   68         16    Male      No     Yes  Caucasian      331"
            ]
          },
          "metadata": {
            "tags": []
          }
        },
        {
          "output_type": "stream",
          "text": [
            "Number of observations 400\n",
            "Number of dimensions 12\n"
          ],
          "name": "stdout"
        },
        {
          "output_type": "display_data",
          "data": {
            "text/html": [
              "<div>\n",
              "<style scoped>\n",
              "    .dataframe tbody tr th:only-of-type {\n",
              "        vertical-align: middle;\n",
              "    }\n",
              "\n",
              "    .dataframe tbody tr th {\n",
              "        vertical-align: top;\n",
              "    }\n",
              "\n",
              "    .dataframe thead th {\n",
              "        text-align: right;\n",
              "    }\n",
              "</style>\n",
              "<table border=\"1\" class=\"dataframe\">\n",
              "  <thead>\n",
              "    <tr style=\"text-align: right;\">\n",
              "      <th></th>\n",
              "      <th>Unnamed: 0</th>\n",
              "      <th>Income</th>\n",
              "      <th>Limit</th>\n",
              "      <th>Rating</th>\n",
              "      <th>Cards</th>\n",
              "      <th>Age</th>\n",
              "      <th>Education</th>\n",
              "      <th>Gender</th>\n",
              "      <th>Student</th>\n",
              "      <th>Married</th>\n",
              "      <th>Ethnicity</th>\n",
              "      <th>Balance</th>\n",
              "    </tr>\n",
              "  </thead>\n",
              "  <tbody>\n",
              "    <tr>\n",
              "      <th>0</th>\n",
              "      <td>1</td>\n",
              "      <td>14.891</td>\n",
              "      <td>3606</td>\n",
              "      <td>283</td>\n",
              "      <td>2</td>\n",
              "      <td>34</td>\n",
              "      <td>11</td>\n",
              "      <td>1</td>\n",
              "      <td>0</td>\n",
              "      <td>1</td>\n",
              "      <td>Caucasian</td>\n",
              "      <td>333</td>\n",
              "    </tr>\n",
              "    <tr>\n",
              "      <th>1</th>\n",
              "      <td>2</td>\n",
              "      <td>106.025</td>\n",
              "      <td>6645</td>\n",
              "      <td>483</td>\n",
              "      <td>3</td>\n",
              "      <td>82</td>\n",
              "      <td>15</td>\n",
              "      <td>0</td>\n",
              "      <td>1</td>\n",
              "      <td>1</td>\n",
              "      <td>Asian</td>\n",
              "      <td>903</td>\n",
              "    </tr>\n",
              "    <tr>\n",
              "      <th>2</th>\n",
              "      <td>3</td>\n",
              "      <td>104.593</td>\n",
              "      <td>7075</td>\n",
              "      <td>514</td>\n",
              "      <td>4</td>\n",
              "      <td>71</td>\n",
              "      <td>11</td>\n",
              "      <td>1</td>\n",
              "      <td>0</td>\n",
              "      <td>0</td>\n",
              "      <td>Asian</td>\n",
              "      <td>580</td>\n",
              "    </tr>\n",
              "    <tr>\n",
              "      <th>3</th>\n",
              "      <td>4</td>\n",
              "      <td>148.924</td>\n",
              "      <td>9504</td>\n",
              "      <td>681</td>\n",
              "      <td>3</td>\n",
              "      <td>36</td>\n",
              "      <td>11</td>\n",
              "      <td>0</td>\n",
              "      <td>0</td>\n",
              "      <td>0</td>\n",
              "      <td>Asian</td>\n",
              "      <td>964</td>\n",
              "    </tr>\n",
              "    <tr>\n",
              "      <th>4</th>\n",
              "      <td>5</td>\n",
              "      <td>55.882</td>\n",
              "      <td>4897</td>\n",
              "      <td>357</td>\n",
              "      <td>2</td>\n",
              "      <td>68</td>\n",
              "      <td>16</td>\n",
              "      <td>1</td>\n",
              "      <td>0</td>\n",
              "      <td>1</td>\n",
              "      <td>Caucasian</td>\n",
              "      <td>331</td>\n",
              "    </tr>\n",
              "  </tbody>\n",
              "</table>\n",
              "</div>"
            ],
            "text/plain": [
              "   Unnamed: 0   Income  Limit  Rating  Cards  Age  Education  Gender  Student  Married  Ethnicity  Balance\n",
              "0           1   14.891   3606     283      2   34         11       1        0        1  Caucasian      333\n",
              "1           2  106.025   6645     483      3   82         15       0        1        1      Asian      903\n",
              "2           3  104.593   7075     514      4   71         11       1        0        0      Asian      580\n",
              "3           4  148.924   9504     681      3   36         11       0        0        0      Asian      964\n",
              "4           5   55.882   4897     357      2   68         16       1        0        1  Caucasian      331"
            ]
          },
          "metadata": {
            "tags": []
          }
        }
      ]
    },
    {
      "cell_type": "markdown",
      "metadata": {
        "id": "vWdb_8dRwk13"
      },
      "source": [
        "### One feature prediction without normalization\n",
        "\n",
        "**Task 1.1:**  \n",
        "From the credits dataset use a linear regression model to predict the `Rating` target from each of these 3 features separately: `Income`, `Limit` and `Age`. \n",
        "\n",
        "**Hint:** \n",
        "- Do not normalize the data\n",
        "- Split your dataset into two sets: the training set (80%) and the test set(20%), set the **shuffle parameter to true** and the **random state to 3**\n",
        "- Create your linear model by fitting also an intercept over the training dataset (set the fit_intercept parameter to `True`). Don't change any other parameters to the model.\n",
        "- Use the R^2 score, the MAE and the MSE on your test set to compare your 3 models (you should display these values)\n"
      ]
    },
    {
      "cell_type": "code",
      "metadata": {
        "id": "dB9A_onYwk15"
      },
      "source": [
        "#Your code here: Rating prediction from Income.\n",
        "# print MAE, MSE, R^2 for the test set\n",
        "\n",
        "X = credits[['Income']]\n",
        "y = credits[['Rating']]"
      ],
      "execution_count": null,
      "outputs": []
    },
    {
      "cell_type": "code",
      "metadata": {
        "id": "QPUuj6Fb4X4F"
      },
      "source": [
        "X_train, X_test, y_train, y_test = train_test_split(X, y, test_size=0.2, random_state=3, shuffle=True)"
      ],
      "execution_count": null,
      "outputs": []
    },
    {
      "cell_type": "code",
      "metadata": {
        "id": "0nDVGS8C6ol8",
        "colab": {
          "base_uri": "https://localhost:8080/",
          "height": 34
        },
        "outputId": "637702b3-232f-4d3f-e118-a5e0975f0225"
      },
      "source": [
        "Linear_reg = LinearRegression(fit_intercept=True)\n",
        "Linear_reg.fit(X_train,y_train)"
      ],
      "execution_count": null,
      "outputs": [
        {
          "output_type": "execute_result",
          "data": {
            "text/plain": [
              "LinearRegression(copy_X=True, fit_intercept=True, n_jobs=None, normalize=False)"
            ]
          },
          "metadata": {
            "tags": []
          },
          "execution_count": 5
        }
      ]
    },
    {
      "cell_type": "code",
      "metadata": {
        "id": "vLvzZAVWMZMB",
        "colab": {
          "base_uri": "https://localhost:8080/",
          "height": 68
        },
        "outputId": "ac2a6e58-b19f-427e-85d6-e8755689904a"
      },
      "source": [
        "predictions = Linear_reg.predict(X_test)\n",
        "mae = mean_absolute_error(y_test, predictions)\n",
        "mse = mean_squared_error(y_test, predictions)\n",
        "r2 = r2_score(y_test, predictions)\n",
        "\n",
        "print(\"MAE %.2f\" % mae)\n",
        "print(\"MSE %.2f\" % mse)\n",
        "print(\"r2 %.2f\" % r2)"
      ],
      "execution_count": null,
      "outputs": [
        {
          "output_type": "stream",
          "text": [
            "MAE 77.33\n",
            "MSE 8390.02\n",
            "r2 0.57\n"
          ],
          "name": "stdout"
        }
      ]
    },
    {
      "cell_type": "code",
      "metadata": {
        "id": "k4v4_m0i9ebf"
      },
      "source": [
        "X = credits[['Limit']]\n",
        "y = credits[['Rating']]"
      ],
      "execution_count": null,
      "outputs": []
    },
    {
      "cell_type": "code",
      "metadata": {
        "id": "YoBpBZg-9my0"
      },
      "source": [
        "X_train, X_test, y_train, y_test = train_test_split(X, y, test_size=0.2, random_state=3, shuffle=True)"
      ],
      "execution_count": null,
      "outputs": []
    },
    {
      "cell_type": "code",
      "metadata": {
        "id": "B6-nYBMe9ofd",
        "colab": {
          "base_uri": "https://localhost:8080/",
          "height": 34
        },
        "outputId": "d11dc861-f7f6-4fa8-a681-bafee792903a"
      },
      "source": [
        "Linear_reg2 = LinearRegression(fit_intercept=True)\n",
        "Linear_reg2.fit(X_train,y_train)"
      ],
      "execution_count": null,
      "outputs": [
        {
          "output_type": "execute_result",
          "data": {
            "text/plain": [
              "LinearRegression(copy_X=True, fit_intercept=True, n_jobs=None, normalize=False)"
            ]
          },
          "metadata": {
            "tags": []
          },
          "execution_count": 9
        }
      ]
    },
    {
      "cell_type": "code",
      "metadata": {
        "id": "pYe1wdrgOyKW",
        "colab": {
          "base_uri": "https://localhost:8080/",
          "height": 68
        },
        "outputId": "cdd66a1c-968d-484d-b9ad-d966c9abb12f"
      },
      "source": [
        "predictions = Linear_reg2.predict(X_test)\n",
        "mae = mean_absolute_error(y_test, predictions)\n",
        "mse = mean_squared_error(y_test, predictions)\n",
        "r2 = r2_score(y_test, predictions)\n",
        "\n",
        "print(\"MAE %.2f\" % mae)\n",
        "print(\"MSE %.2f\" % mse)\n",
        "print(\"r2 %.2f\" % r2)"
      ],
      "execution_count": null,
      "outputs": [
        {
          "output_type": "stream",
          "text": [
            "MAE 9.45\n",
            "MSE 130.83\n",
            "r2 0.99\n"
          ],
          "name": "stdout"
        }
      ]
    },
    {
      "cell_type": "code",
      "metadata": {
        "id": "Har_JKEz93xG"
      },
      "source": [
        "X = credits[['Age']]\n",
        "y = credits[['Rating']]"
      ],
      "execution_count": null,
      "outputs": []
    },
    {
      "cell_type": "code",
      "metadata": {
        "id": "BULWRHoG98Od"
      },
      "source": [
        "X_train, X_test, y_train, y_test = train_test_split(X, y, test_size=0.2, random_state=3, shuffle=True)"
      ],
      "execution_count": null,
      "outputs": []
    },
    {
      "cell_type": "code",
      "metadata": {
        "id": "axg_wrEm9-xz",
        "colab": {
          "base_uri": "https://localhost:8080/",
          "height": 34
        },
        "outputId": "fb70b0cc-9a29-4e66-ed66-109c5732611e"
      },
      "source": [
        "Linear_reg3 = LinearRegression(fit_intercept=True)\n",
        "Linear_reg3.fit(X_train,y_train)"
      ],
      "execution_count": null,
      "outputs": [
        {
          "output_type": "execute_result",
          "data": {
            "text/plain": [
              "LinearRegression(copy_X=True, fit_intercept=True, n_jobs=None, normalize=False)"
            ]
          },
          "metadata": {
            "tags": []
          },
          "execution_count": 13
        }
      ]
    },
    {
      "cell_type": "code",
      "metadata": {
        "id": "UdqvabinO32R",
        "colab": {
          "base_uri": "https://localhost:8080/",
          "height": 68
        },
        "outputId": "0e33aca8-0c40-4cf4-a60b-635623b74b88"
      },
      "source": [
        "predictions = Linear_reg3.predict(X_test)\n",
        "mae = mean_absolute_error(y_test, predictions)\n",
        "mse = mean_squared_error(y_test, predictions)\n",
        "r2 = r2_score(y_test, predictions)\n",
        "\n",
        "print(\"MAE %.2f\" % mae)\n",
        "print(\"MSE %.2f\" % mse)\n",
        "print(\"r2 %.2f\" % r2)"
      ],
      "execution_count": null,
      "outputs": [
        {
          "output_type": "stream",
          "text": [
            "MAE 112.62\n",
            "MSE 19766.24\n",
            "r2 -0.01\n"
          ],
          "name": "stdout"
        }
      ]
    },
    {
      "cell_type": "markdown",
      "metadata": {
        "id": "y12u6w7Zwk2I"
      },
      "source": [
        "**Question 1 :**  \n",
        "What is the MAE of the \"Age\" model (rounded to the closest integer, eg 60) ?"
      ]
    },
    {
      "cell_type": "code",
      "metadata": {
        "id": "bNDlWI3iwk2I",
        "colab": {
          "base_uri": "https://localhost:8080/",
          "height": 34
        },
        "outputId": "8523fc27-ae60-4dde-d36a-09fc196d7edc"
      },
      "source": [
        "print(round(112.62))"
      ],
      "execution_count": null,
      "outputs": [
        {
          "output_type": "stream",
          "text": [
            "113\n"
          ],
          "name": "stdout"
        }
      ]
    },
    {
      "cell_type": "markdown",
      "metadata": {
        "id": "aJ9q2ts4wk2N"
      },
      "source": [
        "**Question 2 :**  \n",
        "What is the MSE of the \"Limit\" model (rounded to the closest integer) ?"
      ]
    },
    {
      "cell_type": "code",
      "metadata": {
        "id": "maTn_h9Ywk2O",
        "colab": {
          "base_uri": "https://localhost:8080/",
          "height": 34
        },
        "outputId": "61a8ba81-f866-4494-a1a8-7e189c4a3fd6"
      },
      "source": [
        "print(round(130.83))"
      ],
      "execution_count": null,
      "outputs": [
        {
          "output_type": "stream",
          "text": [
            "131\n"
          ],
          "name": "stdout"
        }
      ]
    },
    {
      "cell_type": "markdown",
      "metadata": {
        "id": "xMDQ-W50wk2T"
      },
      "source": [
        "**Question 3 :**  \n",
        "Which feature best predicts the Rating target output ?"
      ]
    },
    {
      "cell_type": "code",
      "metadata": {
        "id": "oKsjlw6Wwk2U",
        "scrolled": true,
        "colab": {
          "base_uri": "https://localhost:8080/",
          "height": 34
        },
        "outputId": "b8420759-d3b8-4ae8-b65a-14ee50884e07"
      },
      "source": [
        "print(\"Limit\")"
      ],
      "execution_count": null,
      "outputs": [
        {
          "output_type": "stream",
          "text": [
            "Limit\n"
          ],
          "name": "stdout"
        }
      ]
    },
    {
      "cell_type": "markdown",
      "metadata": {
        "id": "kpfEhuoywk2Y"
      },
      "source": [
        "### Several features encoding without normalization\n",
        "\n",
        "From the credits dataset, we want to predict the `Age` from some particular features: `Education`, `Student` and `Married`.\n",
        "\n",
        "**Task 1.2:**\n",
        "With a linear regression model, reuse the procedure from the previous task (applied to 3 features as inputs) to regress the `Age`.\n",
        "\n",
        "**Hint:** \n",
        "- Do not normalize the data\n",
        "- Split your dataset into two sets: the training (80%) and the test set(20%), set the shuffle parameter to true and the random state to 3\n",
        "- Create your linear model by fitting the intercept  weight over the training dataset (set the parameter to `True`)\n",
        "- Use the R^2 score, the MAE and the MSE to compare your 3 models (you should display these values)\n"
      ]
    },
    {
      "cell_type": "code",
      "metadata": {
        "id": "aXyFRtb8wk2Z"
      },
      "source": [
        "#Your code here: Age prediction from Education Student and Married\n",
        "# print MAE, MSE, R^2 for the test set.\n",
        "\n",
        "X = credits[['Education','Student','Married']]\n",
        "y = credits[['Age']]"
      ],
      "execution_count": null,
      "outputs": []
    },
    {
      "cell_type": "code",
      "metadata": {
        "id": "6hp__uyyeLxn"
      },
      "source": [
        "X_train, X_test, y_train, y_test = train_test_split(X, y, test_size=0.2, random_state=3, shuffle=True)"
      ],
      "execution_count": null,
      "outputs": []
    },
    {
      "cell_type": "code",
      "metadata": {
        "id": "LfPE2N_6eN7e",
        "colab": {
          "base_uri": "https://localhost:8080/",
          "height": 34
        },
        "outputId": "ac22514f-1f48-4f74-b203-74f95c011bef"
      },
      "source": [
        "Linear_reg4 = LinearRegression(fit_intercept=True)\n",
        "Linear_reg4.fit(X_train,y_train)"
      ],
      "execution_count": null,
      "outputs": [
        {
          "output_type": "execute_result",
          "data": {
            "text/plain": [
              "LinearRegression(copy_X=True, fit_intercept=True, n_jobs=None, normalize=False)"
            ]
          },
          "metadata": {
            "tags": []
          },
          "execution_count": 20
        }
      ]
    },
    {
      "cell_type": "code",
      "metadata": {
        "id": "s7dZO8wQP5Bs",
        "colab": {
          "base_uri": "https://localhost:8080/",
          "height": 68
        },
        "outputId": "5324d92f-620d-4105-ffdb-d1cb6aefbeee"
      },
      "source": [
        "predictions = Linear_reg4.predict(X_test)\n",
        "mae = mean_absolute_error(y_test, predictions)\n",
        "mse = mean_squared_error(y_test, predictions)\n",
        "r2 = r2_score(y_test, predictions)\n",
        "\n",
        "print(\"MAE %.2f\" % mae)\n",
        "print(\"MSE %.2f\" % mse)\n",
        "print(\"r2 %.2f\" % r2)"
      ],
      "execution_count": null,
      "outputs": [
        {
          "output_type": "stream",
          "text": [
            "MAE 14.22\n",
            "MSE 278.49\n",
            "r2 -0.04\n"
          ],
          "name": "stdout"
        }
      ]
    },
    {
      "cell_type": "markdown",
      "metadata": {
        "id": "Hz_POFhVwk2c"
      },
      "source": [
        "**Question 4:**  \n",
        "What is the MAE of your model (rounded to the nearest integer, eg 60) ?"
      ]
    },
    {
      "cell_type": "code",
      "metadata": {
        "id": "JAX0KcHowk2d",
        "colab": {
          "base_uri": "https://localhost:8080/",
          "height": 34
        },
        "outputId": "349d9bbf-ab82-45bd-ad9e-cac1558d4a1f"
      },
      "source": [
        "print(\"MAE: \", round(14.22))"
      ],
      "execution_count": null,
      "outputs": [
        {
          "output_type": "stream",
          "text": [
            "MAE:  14\n"
          ],
          "name": "stdout"
        }
      ]
    },
    {
      "cell_type": "markdown",
      "metadata": {
        "id": "tHVJp2rHwk2g"
      },
      "source": [
        "**Question 5:**  \n",
        "Predict the resulting value when putting the 5th row of the *original* data as input (ie on the 5 row of the all data that you have loaded, after selecting the 3 features and before the train/test split). Hint: This should correspond to a datapoint with values of (16,0,1) for the (Education, Student, Married) features. What predicted value for the age you get (rounded to the closest integer) ?\n",
        "\n",
        "**Hint:**\n",
        "- Use the `predict()` function of your model on the 5th row\n",
        "- To access this value you can use `iloc` (see definition of `iloc` to make sure you select the proper row) "
      ]
    },
    {
      "cell_type": "code",
      "metadata": {
        "id": "oE0vn6yowk2i",
        "colab": {
          "base_uri": "https://localhost:8080/",
          "height": 80
        },
        "outputId": "875dc84b-c47a-4f1d-a313-1c32559c7ce1"
      },
      "source": [
        "#Your code here:\n",
        "#Check\n",
        "Linear_reg4_df = credits[['Education','Student','Married']]\n",
        "Linear_reg4_df.iloc[[4]]"
      ],
      "execution_count": null,
      "outputs": [
        {
          "output_type": "execute_result",
          "data": {
            "text/html": [
              "<div>\n",
              "<style scoped>\n",
              "    .dataframe tbody tr th:only-of-type {\n",
              "        vertical-align: middle;\n",
              "    }\n",
              "\n",
              "    .dataframe tbody tr th {\n",
              "        vertical-align: top;\n",
              "    }\n",
              "\n",
              "    .dataframe thead th {\n",
              "        text-align: right;\n",
              "    }\n",
              "</style>\n",
              "<table border=\"1\" class=\"dataframe\">\n",
              "  <thead>\n",
              "    <tr style=\"text-align: right;\">\n",
              "      <th></th>\n",
              "      <th>Education</th>\n",
              "      <th>Student</th>\n",
              "      <th>Married</th>\n",
              "    </tr>\n",
              "  </thead>\n",
              "  <tbody>\n",
              "    <tr>\n",
              "      <th>4</th>\n",
              "      <td>16</td>\n",
              "      <td>0</td>\n",
              "      <td>1</td>\n",
              "    </tr>\n",
              "  </tbody>\n",
              "</table>\n",
              "</div>"
            ],
            "text/plain": [
              "   Education  Student  Married\n",
              "4         16        0        1"
            ]
          },
          "metadata": {
            "tags": []
          },
          "execution_count": 23
        }
      ]
    },
    {
      "cell_type": "code",
      "metadata": {
        "id": "tqVAhSvkmnC0",
        "colab": {
          "base_uri": "https://localhost:8080/",
          "height": 34
        },
        "outputId": "610caba6-c286-41fc-b4be-64cdad500346"
      },
      "source": [
        "print(\"y_pred: %4f\" % (Linear_reg4.predict(X.iloc[[4]])).round(0))"
      ],
      "execution_count": null,
      "outputs": [
        {
          "output_type": "stream",
          "text": [
            "y_pred: 54.000000\n"
          ],
          "name": "stdout"
        }
      ]
    },
    {
      "cell_type": "markdown",
      "metadata": {
        "id": "PMRSJTU_wk2n"
      },
      "source": [
        "**Question 6:**  \n",
        "After rounding your prediction to the closest integer value, compute the absolute error from the true age value. What value do you get ?"
      ]
    },
    {
      "cell_type": "code",
      "metadata": {
        "id": "VIontemVwk2n",
        "colab": {
          "base_uri": "https://localhost:8080/",
          "height": 51
        },
        "outputId": "1a80d5e5-d4e5-45e6-9e92-e4e13f3d4601"
      },
      "source": [
        "print(\"y_pred: %4f\" % (Linear_reg4.predict(X.iloc[[4]])).round(0), \"y_true\", y.iloc[4].Age)\n",
        "\n",
        "print(\"14\")"
      ],
      "execution_count": null,
      "outputs": [
        {
          "output_type": "stream",
          "text": [
            "y_pred: 54.000000 y_true 68\n",
            "14\n"
          ],
          "name": "stdout"
        }
      ]
    },
    {
      "cell_type": "markdown",
      "metadata": {
        "id": "dVnB6DpVOcxQ"
      },
      "source": [
        "**Task 1.3:**  \n",
        "Now redo the task 1.2 but this time with a normalization (`MinMaxScaler`sklearn module). Keep the same indications present in the hint. \n",
        "\n",
        "**Hints:**\n",
        "- with the scaler fit and transform X_train then transform X_test"
      ]
    },
    {
      "cell_type": "code",
      "metadata": {
        "id": "iYdbKjGUg-lr"
      },
      "source": [
        "X = credits[[\"Education\",\"Student\",\"Married\"]]\n",
        "y = credits[[\"Age\"]]"
      ],
      "execution_count": null,
      "outputs": []
    },
    {
      "cell_type": "code",
      "metadata": {
        "id": "XhQuCr9xigUm"
      },
      "source": [
        "X_train, X_test, y_train, y_test = train_test_split(X, y, test_size=0.2, random_state=3, shuffle=True)"
      ],
      "execution_count": null,
      "outputs": []
    },
    {
      "cell_type": "code",
      "metadata": {
        "id": "vbpr_So6iui-"
      },
      "source": [
        "scaler = MinMaxScaler()\n",
        "X_train = scaler.fit_transform(X_train)\n",
        "X_test = scaler.transform(X_test)"
      ],
      "execution_count": null,
      "outputs": []
    },
    {
      "cell_type": "code",
      "metadata": {
        "id": "xpr9lpmXip3P",
        "colab": {
          "base_uri": "https://localhost:8080/",
          "height": 34
        },
        "outputId": "11bdf1e3-fcee-4263-f45e-cda14399883a"
      },
      "source": [
        "Linear_reg5 = LinearRegression(fit_intercept=True)\n",
        "Linear_reg5.fit(X_train,y_train)"
      ],
      "execution_count": null,
      "outputs": [
        {
          "output_type": "execute_result",
          "data": {
            "text/plain": [
              "LinearRegression(copy_X=True, fit_intercept=True, n_jobs=None, normalize=False)"
            ]
          },
          "metadata": {
            "tags": []
          },
          "execution_count": 29
        }
      ]
    },
    {
      "cell_type": "code",
      "metadata": {
        "id": "lfj5ecIaQjEp",
        "colab": {
          "base_uri": "https://localhost:8080/",
          "height": 68
        },
        "outputId": "87479f1c-1712-410e-c2ca-17757ea8b260"
      },
      "source": [
        "predictions = Linear_reg5.predict(X_test)\n",
        "mae = mean_absolute_error(y_test, predictions)\n",
        "mse = mean_squared_error(y_test, predictions)\n",
        "r2 = r2_score(y_test, predictions)\n",
        "\n",
        "print(\"MAE %.2f\" % mae)\n",
        "print(\"MSE %.2f\" % mse)\n",
        "print(\"r2 %.2f\" % r2)"
      ],
      "execution_count": null,
      "outputs": [
        {
          "output_type": "stream",
          "text": [
            "MAE 14.22\n",
            "MSE 278.49\n",
            "r2 -0.04\n"
          ],
          "name": "stdout"
        }
      ]
    },
    {
      "cell_type": "markdown",
      "metadata": {
        "id": "HmOzkh_zQnqJ"
      },
      "source": [
        "**Question 7:**  \n",
        "What is the new value of the coefficient related to the `Student` feature (rounding to one decimal place, e.g: 1.1) ?\n"
      ]
    },
    {
      "cell_type": "code",
      "metadata": {
        "id": "sjI3UG3SQz-T",
        "colab": {
          "base_uri": "https://localhost:8080/",
          "height": 34
        },
        "outputId": "11e7b34c-4632-4c22-fc64-9bade53dcc3a"
      },
      "source": [
        "#Your code here:\n",
        "print(\"Coefficient: \", (Linear_reg5.coef_).round(1))"
      ],
      "execution_count": null,
      "outputs": [
        {
          "output_type": "stream",
          "text": [
            "Coefficient:  [[ 1.3 -2.5 -3.1]]\n"
          ],
          "name": "stdout"
        }
      ]
    },
    {
      "cell_type": "markdown",
      "metadata": {
        "id": "kTVg2QcBwk2r"
      },
      "source": [
        "### One hot encoding over ethnicity with normalization\n",
        "\n",
        "**Task 1.4:**  \n",
        "From the `credits` dataset, do 1-hot encoding on the column `Ethnicity` using the function `get_dummies()` from pandas. We are interested in the influence of ethnicity to predict the rating. \n",
        "Compare two models:\n",
        "- for the first one try to predict `Rating` from: `Education`, `Student` and `Married`\n",
        "- for the second one try to predict `Rating` from: `Student`, `Married`, `Education` and all the `Etchnicity` encoded columns generated by `get_dummies()`\n",
        "\n",
        "For both, apply normalization using the `MinMaxScaler`sklearn module.\n",
        "\n",
        "**Hint:**\n",
        "- Split your dataset into two sets: the training set (80%) and the test set(20%), set the **shuffle parameter to true** and the **random state to 3**\n",
        "- Create your linear model by fitting also the intercept over the training dataset (set the parameter to `True`)\n",
        "- Use the R^2 score, the MAE and the MSE on your test set to compare your 3 models (you should display these values)\n"
      ]
    },
    {
      "cell_type": "code",
      "metadata": {
        "id": "VvlU0zcWwk2r",
        "colab": {
          "base_uri": "https://localhost:8080/",
          "height": 241
        },
        "outputId": "accb39a1-2ce4-409f-ea1a-263beae9897d"
      },
      "source": [
        "#Your code here: One hot encoding on ethnicity\n",
        "credits['Ethnicity'] = pd.Categorical(credits['Ethnicity'])\n",
        "creditsDummies = pd.get_dummies(credits['Ethnicity'], prefix='Ethnicity')\n",
        "credits = pd.concat([credits, creditsDummies], axis = 1)\n",
        "credits.head()"
      ],
      "execution_count": null,
      "outputs": [
        {
          "output_type": "execute_result",
          "data": {
            "text/html": [
              "<div>\n",
              "<style scoped>\n",
              "    .dataframe tbody tr th:only-of-type {\n",
              "        vertical-align: middle;\n",
              "    }\n",
              "\n",
              "    .dataframe tbody tr th {\n",
              "        vertical-align: top;\n",
              "    }\n",
              "\n",
              "    .dataframe thead th {\n",
              "        text-align: right;\n",
              "    }\n",
              "</style>\n",
              "<table border=\"1\" class=\"dataframe\">\n",
              "  <thead>\n",
              "    <tr style=\"text-align: right;\">\n",
              "      <th></th>\n",
              "      <th>Unnamed: 0</th>\n",
              "      <th>Income</th>\n",
              "      <th>Limit</th>\n",
              "      <th>Rating</th>\n",
              "      <th>Cards</th>\n",
              "      <th>Age</th>\n",
              "      <th>Education</th>\n",
              "      <th>Gender</th>\n",
              "      <th>Student</th>\n",
              "      <th>Married</th>\n",
              "      <th>Ethnicity</th>\n",
              "      <th>Balance</th>\n",
              "      <th>Ethnicity_African American</th>\n",
              "      <th>Ethnicity_Asian</th>\n",
              "      <th>Ethnicity_Caucasian</th>\n",
              "    </tr>\n",
              "  </thead>\n",
              "  <tbody>\n",
              "    <tr>\n",
              "      <th>0</th>\n",
              "      <td>1</td>\n",
              "      <td>14.891</td>\n",
              "      <td>3606</td>\n",
              "      <td>283</td>\n",
              "      <td>2</td>\n",
              "      <td>34</td>\n",
              "      <td>11</td>\n",
              "      <td>1</td>\n",
              "      <td>0</td>\n",
              "      <td>1</td>\n",
              "      <td>Caucasian</td>\n",
              "      <td>333</td>\n",
              "      <td>0</td>\n",
              "      <td>0</td>\n",
              "      <td>1</td>\n",
              "    </tr>\n",
              "    <tr>\n",
              "      <th>1</th>\n",
              "      <td>2</td>\n",
              "      <td>106.025</td>\n",
              "      <td>6645</td>\n",
              "      <td>483</td>\n",
              "      <td>3</td>\n",
              "      <td>82</td>\n",
              "      <td>15</td>\n",
              "      <td>0</td>\n",
              "      <td>1</td>\n",
              "      <td>1</td>\n",
              "      <td>Asian</td>\n",
              "      <td>903</td>\n",
              "      <td>0</td>\n",
              "      <td>1</td>\n",
              "      <td>0</td>\n",
              "    </tr>\n",
              "    <tr>\n",
              "      <th>2</th>\n",
              "      <td>3</td>\n",
              "      <td>104.593</td>\n",
              "      <td>7075</td>\n",
              "      <td>514</td>\n",
              "      <td>4</td>\n",
              "      <td>71</td>\n",
              "      <td>11</td>\n",
              "      <td>1</td>\n",
              "      <td>0</td>\n",
              "      <td>0</td>\n",
              "      <td>Asian</td>\n",
              "      <td>580</td>\n",
              "      <td>0</td>\n",
              "      <td>1</td>\n",
              "      <td>0</td>\n",
              "    </tr>\n",
              "    <tr>\n",
              "      <th>3</th>\n",
              "      <td>4</td>\n",
              "      <td>148.924</td>\n",
              "      <td>9504</td>\n",
              "      <td>681</td>\n",
              "      <td>3</td>\n",
              "      <td>36</td>\n",
              "      <td>11</td>\n",
              "      <td>0</td>\n",
              "      <td>0</td>\n",
              "      <td>0</td>\n",
              "      <td>Asian</td>\n",
              "      <td>964</td>\n",
              "      <td>0</td>\n",
              "      <td>1</td>\n",
              "      <td>0</td>\n",
              "    </tr>\n",
              "    <tr>\n",
              "      <th>4</th>\n",
              "      <td>5</td>\n",
              "      <td>55.882</td>\n",
              "      <td>4897</td>\n",
              "      <td>357</td>\n",
              "      <td>2</td>\n",
              "      <td>68</td>\n",
              "      <td>16</td>\n",
              "      <td>1</td>\n",
              "      <td>0</td>\n",
              "      <td>1</td>\n",
              "      <td>Caucasian</td>\n",
              "      <td>331</td>\n",
              "      <td>0</td>\n",
              "      <td>0</td>\n",
              "      <td>1</td>\n",
              "    </tr>\n",
              "  </tbody>\n",
              "</table>\n",
              "</div>"
            ],
            "text/plain": [
              "   Unnamed: 0   Income  Limit  Rating  Cards  Age  Education  Gender  Student  Married  Ethnicity  Balance  Ethnicity_African American  Ethnicity_Asian  Ethnicity_Caucasian\n",
              "0           1   14.891   3606     283      2   34         11       1        0        1  Caucasian      333                           0                0                    1\n",
              "1           2  106.025   6645     483      3   82         15       0        1        1      Asian      903                           0                1                    0\n",
              "2           3  104.593   7075     514      4   71         11       1        0        0      Asian      580                           0                1                    0\n",
              "3           4  148.924   9504     681      3   36         11       0        0        0      Asian      964                           0                1                    0\n",
              "4           5   55.882   4897     357      2   68         16       1        0        1  Caucasian      331                           0                0                    1"
            ]
          },
          "metadata": {
            "tags": []
          },
          "execution_count": 32
        }
      ]
    },
    {
      "cell_type": "code",
      "metadata": {
        "id": "7MbSNwrJwk2w"
      },
      "source": [
        "#Your code here: Rating prediction from Education Student and Married\n",
        "X = credits[['Education','Student','Married']]\n",
        "y = credits[['Rating']]"
      ],
      "execution_count": null,
      "outputs": []
    },
    {
      "cell_type": "code",
      "metadata": {
        "id": "WG1VW843jPYN"
      },
      "source": [
        "X_train, X_test, y_train, y_test = train_test_split(X, y, test_size=0.2, random_state=3, shuffle=True)"
      ],
      "execution_count": null,
      "outputs": []
    },
    {
      "cell_type": "code",
      "metadata": {
        "id": "bQDhDi8inOjw"
      },
      "source": [
        "scaler = MinMaxScaler()\n",
        "scaler.fit_transform(X_train)\n",
        "X_train = scaler.transform(X_train)\n",
        "X_test = scaler.transform(X_test)"
      ],
      "execution_count": null,
      "outputs": []
    },
    {
      "cell_type": "code",
      "metadata": {
        "id": "JDWavfAsja7N",
        "colab": {
          "base_uri": "https://localhost:8080/",
          "height": 34
        },
        "outputId": "2bd548b6-4b4a-4240-a111-369543007502"
      },
      "source": [
        "Linear_reg6 = LinearRegression(fit_intercept=True)\n",
        "Linear_reg6.fit(X_train,y_train)"
      ],
      "execution_count": null,
      "outputs": [
        {
          "output_type": "execute_result",
          "data": {
            "text/plain": [
              "LinearRegression(copy_X=True, fit_intercept=True, n_jobs=None, normalize=False)"
            ]
          },
          "metadata": {
            "tags": []
          },
          "execution_count": 36
        }
      ]
    },
    {
      "cell_type": "code",
      "metadata": {
        "id": "MKS63plMIW4z",
        "colab": {
          "base_uri": "https://localhost:8080/",
          "height": 68
        },
        "outputId": "5748beba-3831-40ed-b561-f15dca5c6e8a"
      },
      "source": [
        "predictions = Linear_reg6.predict(X_test)\n",
        "mae = mean_absolute_error(y_test, predictions)\n",
        "mse = mean_squared_error(y_test, predictions)\n",
        "r2 = r2_score(y_test, predictions)\n",
        "\n",
        "print(\"MAE %.2f\" % mae)\n",
        "print(\"MSE %.2f\" % mse)\n",
        "print(\"r2 %.2f\" % r2)"
      ],
      "execution_count": null,
      "outputs": [
        {
          "output_type": "stream",
          "text": [
            "MAE 110.54\n",
            "MSE 20218.57\n",
            "r2 -0.03\n"
          ],
          "name": "stdout"
        }
      ]
    },
    {
      "cell_type": "code",
      "metadata": {
        "id": "H4Qts_btDBmE"
      },
      "source": [
        "X = credits[['Education','Student','Married','Ethnicity_African American','Ethnicity_Caucasian','Ethnicity_Asian']]\n",
        "y = credits[['Rating']]"
      ],
      "execution_count": null,
      "outputs": []
    },
    {
      "cell_type": "code",
      "metadata": {
        "id": "qwOHIr1mHGiL"
      },
      "source": [
        "X_train, X_test, y_train, y_test = train_test_split(X, y, test_size=0.2, random_state=3, shuffle=True)"
      ],
      "execution_count": null,
      "outputs": []
    },
    {
      "cell_type": "code",
      "metadata": {
        "id": "GT9GvEWiHIpe"
      },
      "source": [
        "scaler = MinMaxScaler()\n",
        "scaler.fit_transform(X_train)\n",
        "X_train = scaler.transform(X_train)\n",
        "X_test = scaler.transform(X_test)"
      ],
      "execution_count": null,
      "outputs": []
    },
    {
      "cell_type": "code",
      "metadata": {
        "id": "k04w8ERQHL6r",
        "colab": {
          "base_uri": "https://localhost:8080/",
          "height": 34
        },
        "outputId": "0bf6f2c4-a379-404c-eb58-8961c552f247"
      },
      "source": [
        "Linear_reg7 = LinearRegression(fit_intercept=True)\n",
        "Linear_reg7.fit(X_train,y_train)"
      ],
      "execution_count": null,
      "outputs": [
        {
          "output_type": "execute_result",
          "data": {
            "text/plain": [
              "LinearRegression(copy_X=True, fit_intercept=True, n_jobs=None, normalize=False)"
            ]
          },
          "metadata": {
            "tags": []
          },
          "execution_count": 41
        }
      ]
    },
    {
      "cell_type": "code",
      "metadata": {
        "id": "YsWFF73HHPya",
        "colab": {
          "base_uri": "https://localhost:8080/",
          "height": 68
        },
        "outputId": "04f275de-a68e-45a6-9322-570447a58be8"
      },
      "source": [
        "predictions = Linear_reg7.predict(X_test)\n",
        "mae = mean_absolute_error(y_test, predictions)\n",
        "mse = mean_squared_error(y_test, predictions)\n",
        "r2 = r2_score(y_test, predictions)\n",
        "\n",
        "print(\"MAE %.2f\" % mae)\n",
        "print(\"MSE %.2f\" % mse)\n",
        "print(\"r2 %.2f\" % r2)"
      ],
      "execution_count": null,
      "outputs": [
        {
          "output_type": "stream",
          "text": [
            "MAE 113.68\n",
            "MSE 20956.03\n",
            "r2 -0.07\n"
          ],
          "name": "stdout"
        }
      ]
    },
    {
      "cell_type": "markdown",
      "metadata": {
        "id": "gC_bfhYJwk22"
      },
      "source": [
        "**Question 8:**  \n",
        "What is the value of the MSE for the first model (rounded to the closest integer, eg 10000)?\n"
      ]
    },
    {
      "cell_type": "code",
      "metadata": {
        "id": "v1J1kLJewk22",
        "colab": {
          "base_uri": "https://localhost:8080/",
          "height": 34
        },
        "outputId": "256c414e-673b-4579-80d6-4443248f4742"
      },
      "source": [
        "print(round(20218.57))"
      ],
      "execution_count": null,
      "outputs": [
        {
          "output_type": "stream",
          "text": [
            "20219\n"
          ],
          "name": "stdout"
        }
      ]
    },
    {
      "cell_type": "markdown",
      "metadata": {
        "id": "QSJsNIcTwk25"
      },
      "source": [
        "**Question 9:**   \n",
        "Is adding the ethnicity helping to better predict the rating?\n"
      ]
    },
    {
      "cell_type": "code",
      "metadata": {
        "id": "56u5BHt3wk26",
        "colab": {
          "base_uri": "https://localhost:8080/",
          "height": 34
        },
        "outputId": "cd333c2d-afe8-4e9e-806b-b2ad05834fac"
      },
      "source": [
        "print(\"nope\")"
      ],
      "execution_count": null,
      "outputs": [
        {
          "output_type": "stream",
          "text": [
            "nope\n"
          ],
          "name": "stdout"
        }
      ]
    },
    {
      "cell_type": "markdown",
      "metadata": {
        "id": "NktP-w9nwk29"
      },
      "source": [
        "## Part 2: Wage prediction \n",
        "\n",
        "This part of this assignment will focus on the compensation CEO dataset. For this part, apply normalization each time (`MinMaxScaler` sklearn module)."
      ]
    },
    {
      "cell_type": "code",
      "metadata": {
        "id": "LyOlYTZEwk29",
        "scrolled": true,
        "colab": {
          "base_uri": "https://localhost:8080/",
          "height": 510
        },
        "outputId": "8a5a5422-782c-4c88-98c3-c8b531b4524d"
      },
      "source": [
        "url = \"https://raw.githubusercontent.com/michalis0/Business-Intelligence-and-Analytics/master/data/Wage.csv\"\n",
        "wages = pd.read_csv(url)\n",
        "wages.drop(['sex', 'region'], axis=1, inplace=True)\n",
        "display(wages.head())\n",
        "\n",
        "# Observations and columns (dimensions)\n",
        "print(\"Number of observations\", wages.shape[0])\n",
        "print(\"Number of dimensions\", wages.shape[1])\n",
        "columns_one_hot_encoding = ['race', 'maritl', 'education' ]\n",
        "columns_bin_encoding = ['jobclass', 'health', 'health_ins']\n",
        "\n",
        "wages.replace(to_replace=['2. No', '1. Yes', '1. Industrial', '2. Information', '1. <=Good', '2. >=Very Good' ], value=[0, 1, 0, 1, 0, 1], inplace=True)\n",
        "wages.replace(to_replace=['1. Never Married', '2. Married', '4. Divorced', '3. Widowed', '5. Separated'], value=['Never Married', 'Married', 'Divorced', 'Widowed', 'Separated'], inplace=True)\n",
        "wages.replace(to_replace=['1. White', '3. Asian', '4. Other', '2. Black'], value=['White', 'Asian', 'Other', 'Black'], inplace=True)\n",
        "wages.replace(to_replace=['1. < HS Grad', '4. College Grad', '3. Some College', '2. HS Grad','5. Advanced Degree'], value=['< HS Grad', 'College Grad', 'Some College', 'HS Grad','Advanced Degree'], inplace=True)\n",
        "\n",
        "display(wages.head())"
      ],
      "execution_count": null,
      "outputs": [
        {
          "output_type": "display_data",
          "data": {
            "text/html": [
              "<div>\n",
              "<style scoped>\n",
              "    .dataframe tbody tr th:only-of-type {\n",
              "        vertical-align: middle;\n",
              "    }\n",
              "\n",
              "    .dataframe tbody tr th {\n",
              "        vertical-align: top;\n",
              "    }\n",
              "\n",
              "    .dataframe thead th {\n",
              "        text-align: right;\n",
              "    }\n",
              "</style>\n",
              "<table border=\"1\" class=\"dataframe\">\n",
              "  <thead>\n",
              "    <tr style=\"text-align: right;\">\n",
              "      <th></th>\n",
              "      <th>year</th>\n",
              "      <th>age</th>\n",
              "      <th>maritl</th>\n",
              "      <th>race</th>\n",
              "      <th>education</th>\n",
              "      <th>jobclass</th>\n",
              "      <th>health</th>\n",
              "      <th>health_ins</th>\n",
              "      <th>logwage</th>\n",
              "      <th>wage</th>\n",
              "    </tr>\n",
              "  </thead>\n",
              "  <tbody>\n",
              "    <tr>\n",
              "      <th>0</th>\n",
              "      <td>2006</td>\n",
              "      <td>18</td>\n",
              "      <td>1. Never Married</td>\n",
              "      <td>1. White</td>\n",
              "      <td>1. &lt; HS Grad</td>\n",
              "      <td>1. Industrial</td>\n",
              "      <td>1. &lt;=Good</td>\n",
              "      <td>2. No</td>\n",
              "      <td>4.318063</td>\n",
              "      <td>75.043154</td>\n",
              "    </tr>\n",
              "    <tr>\n",
              "      <th>1</th>\n",
              "      <td>2004</td>\n",
              "      <td>24</td>\n",
              "      <td>1. Never Married</td>\n",
              "      <td>1. White</td>\n",
              "      <td>4. College Grad</td>\n",
              "      <td>2. Information</td>\n",
              "      <td>2. &gt;=Very Good</td>\n",
              "      <td>2. No</td>\n",
              "      <td>4.255273</td>\n",
              "      <td>70.476020</td>\n",
              "    </tr>\n",
              "    <tr>\n",
              "      <th>2</th>\n",
              "      <td>2003</td>\n",
              "      <td>45</td>\n",
              "      <td>2. Married</td>\n",
              "      <td>1. White</td>\n",
              "      <td>3. Some College</td>\n",
              "      <td>1. Industrial</td>\n",
              "      <td>1. &lt;=Good</td>\n",
              "      <td>1. Yes</td>\n",
              "      <td>4.875061</td>\n",
              "      <td>130.982177</td>\n",
              "    </tr>\n",
              "    <tr>\n",
              "      <th>3</th>\n",
              "      <td>2003</td>\n",
              "      <td>43</td>\n",
              "      <td>2. Married</td>\n",
              "      <td>3. Asian</td>\n",
              "      <td>4. College Grad</td>\n",
              "      <td>2. Information</td>\n",
              "      <td>2. &gt;=Very Good</td>\n",
              "      <td>1. Yes</td>\n",
              "      <td>5.041393</td>\n",
              "      <td>154.685293</td>\n",
              "    </tr>\n",
              "    <tr>\n",
              "      <th>4</th>\n",
              "      <td>2005</td>\n",
              "      <td>50</td>\n",
              "      <td>4. Divorced</td>\n",
              "      <td>1. White</td>\n",
              "      <td>2. HS Grad</td>\n",
              "      <td>2. Information</td>\n",
              "      <td>1. &lt;=Good</td>\n",
              "      <td>1. Yes</td>\n",
              "      <td>4.318063</td>\n",
              "      <td>75.043154</td>\n",
              "    </tr>\n",
              "  </tbody>\n",
              "</table>\n",
              "</div>"
            ],
            "text/plain": [
              "   year  age            maritl      race        education        jobclass          health health_ins   logwage        wage\n",
              "0  2006   18  1. Never Married  1. White     1. < HS Grad   1. Industrial       1. <=Good      2. No  4.318063   75.043154\n",
              "1  2004   24  1. Never Married  1. White  4. College Grad  2. Information  2. >=Very Good      2. No  4.255273   70.476020\n",
              "2  2003   45        2. Married  1. White  3. Some College   1. Industrial       1. <=Good     1. Yes  4.875061  130.982177\n",
              "3  2003   43        2. Married  3. Asian  4. College Grad  2. Information  2. >=Very Good     1. Yes  5.041393  154.685293\n",
              "4  2005   50       4. Divorced  1. White       2. HS Grad  2. Information       1. <=Good     1. Yes  4.318063   75.043154"
            ]
          },
          "metadata": {
            "tags": []
          }
        },
        {
          "output_type": "stream",
          "text": [
            "Number of observations 3000\n",
            "Number of dimensions 10\n"
          ],
          "name": "stdout"
        },
        {
          "output_type": "display_data",
          "data": {
            "text/html": [
              "<div>\n",
              "<style scoped>\n",
              "    .dataframe tbody tr th:only-of-type {\n",
              "        vertical-align: middle;\n",
              "    }\n",
              "\n",
              "    .dataframe tbody tr th {\n",
              "        vertical-align: top;\n",
              "    }\n",
              "\n",
              "    .dataframe thead th {\n",
              "        text-align: right;\n",
              "    }\n",
              "</style>\n",
              "<table border=\"1\" class=\"dataframe\">\n",
              "  <thead>\n",
              "    <tr style=\"text-align: right;\">\n",
              "      <th></th>\n",
              "      <th>year</th>\n",
              "      <th>age</th>\n",
              "      <th>maritl</th>\n",
              "      <th>race</th>\n",
              "      <th>education</th>\n",
              "      <th>jobclass</th>\n",
              "      <th>health</th>\n",
              "      <th>health_ins</th>\n",
              "      <th>logwage</th>\n",
              "      <th>wage</th>\n",
              "    </tr>\n",
              "  </thead>\n",
              "  <tbody>\n",
              "    <tr>\n",
              "      <th>0</th>\n",
              "      <td>2006</td>\n",
              "      <td>18</td>\n",
              "      <td>Never Married</td>\n",
              "      <td>White</td>\n",
              "      <td>&lt; HS Grad</td>\n",
              "      <td>0</td>\n",
              "      <td>0</td>\n",
              "      <td>0</td>\n",
              "      <td>4.318063</td>\n",
              "      <td>75.043154</td>\n",
              "    </tr>\n",
              "    <tr>\n",
              "      <th>1</th>\n",
              "      <td>2004</td>\n",
              "      <td>24</td>\n",
              "      <td>Never Married</td>\n",
              "      <td>White</td>\n",
              "      <td>College Grad</td>\n",
              "      <td>1</td>\n",
              "      <td>1</td>\n",
              "      <td>0</td>\n",
              "      <td>4.255273</td>\n",
              "      <td>70.476020</td>\n",
              "    </tr>\n",
              "    <tr>\n",
              "      <th>2</th>\n",
              "      <td>2003</td>\n",
              "      <td>45</td>\n",
              "      <td>Married</td>\n",
              "      <td>White</td>\n",
              "      <td>Some College</td>\n",
              "      <td>0</td>\n",
              "      <td>0</td>\n",
              "      <td>1</td>\n",
              "      <td>4.875061</td>\n",
              "      <td>130.982177</td>\n",
              "    </tr>\n",
              "    <tr>\n",
              "      <th>3</th>\n",
              "      <td>2003</td>\n",
              "      <td>43</td>\n",
              "      <td>Married</td>\n",
              "      <td>Asian</td>\n",
              "      <td>College Grad</td>\n",
              "      <td>1</td>\n",
              "      <td>1</td>\n",
              "      <td>1</td>\n",
              "      <td>5.041393</td>\n",
              "      <td>154.685293</td>\n",
              "    </tr>\n",
              "    <tr>\n",
              "      <th>4</th>\n",
              "      <td>2005</td>\n",
              "      <td>50</td>\n",
              "      <td>Divorced</td>\n",
              "      <td>White</td>\n",
              "      <td>HS Grad</td>\n",
              "      <td>1</td>\n",
              "      <td>0</td>\n",
              "      <td>1</td>\n",
              "      <td>4.318063</td>\n",
              "      <td>75.043154</td>\n",
              "    </tr>\n",
              "  </tbody>\n",
              "</table>\n",
              "</div>"
            ],
            "text/plain": [
              "   year  age         maritl   race     education  jobclass  health  health_ins   logwage        wage\n",
              "0  2006   18  Never Married  White     < HS Grad         0       0           0  4.318063   75.043154\n",
              "1  2004   24  Never Married  White  College Grad         1       1           0  4.255273   70.476020\n",
              "2  2003   45        Married  White  Some College         0       0           1  4.875061  130.982177\n",
              "3  2003   43        Married  Asian  College Grad         1       1           1  5.041393  154.685293\n",
              "4  2005   50       Divorced  White       HS Grad         1       0           1  4.318063   75.043154"
            ]
          },
          "metadata": {
            "tags": []
          }
        }
      ]
    },
    {
      "cell_type": "markdown",
      "metadata": {
        "id": "hy0WcRQqwk3B"
      },
      "source": [
        "### Several features regression\n",
        "**Task 2.1:**  \n",
        "Use a linear regression model to predict the `wage` and the `logwage` (two separate models) using the features: `jobclass` ,`health_ins` and `health`. \n",
        "\n",
        "**Hint:**\n",
        "- Split your dataset into two sets: the training set (80%) and the test set(20%), set the **shuffle parameter to true** and the **random state to 3**\n",
        "- Create your linear model by fitting the intercept  weight over the training dataset (set the parameter to `True`)\n",
        "- Use the R^2 score, the MAE and the MSE on your test set to compare your 3 models (you should display these values)\n",
        "- Apply normalization (`MinMaxScaler` sklearn module).\n",
        "\n",
        "\n"
      ]
    },
    {
      "cell_type": "code",
      "metadata": {
        "id": "JDOWcRYowk3B"
      },
      "source": [
        "#Your code here: wage prediction from jobclass health_ins and health\n",
        "X = np.array(wages[['jobclass', 'health_ins','health']])\n",
        "\n",
        "y = np.array(wages[['wage']])\n",
        "\n",
        "#print MAE, MSE, R^2 of test set"
      ],
      "execution_count": null,
      "outputs": []
    },
    {
      "cell_type": "code",
      "metadata": {
        "id": "tPWJhe_GSUVI"
      },
      "source": [
        "X_train, X_test, y_train, y_test = train_test_split(X, y, test_size=0.2, random_state=3, shuffle=True)"
      ],
      "execution_count": null,
      "outputs": []
    },
    {
      "cell_type": "code",
      "metadata": {
        "id": "zvpyYo-PSiW7"
      },
      "source": [
        "scaler = MinMaxScaler()\n",
        "scaler.fit_transform(X_train)\n",
        "X_train = scaler.transform(X_train)\n",
        "X_test = scaler.transform(X_test)"
      ],
      "execution_count": null,
      "outputs": []
    },
    {
      "cell_type": "code",
      "metadata": {
        "id": "qvG8y3b8SvSz",
        "colab": {
          "base_uri": "https://localhost:8080/",
          "height": 34
        },
        "outputId": "e6538c1d-0990-4955-aa6c-6ab8c9b60305"
      },
      "source": [
        "Linear_reg8 = LinearRegression(fit_intercept=True)\n",
        "Linear_reg8.fit(X_train,y_train)"
      ],
      "execution_count": null,
      "outputs": [
        {
          "output_type": "execute_result",
          "data": {
            "text/plain": [
              "LinearRegression(copy_X=True, fit_intercept=True, n_jobs=None, normalize=False)"
            ]
          },
          "metadata": {
            "tags": []
          },
          "execution_count": 49
        }
      ]
    },
    {
      "cell_type": "code",
      "metadata": {
        "id": "qdruBUYVVWox",
        "colab": {
          "base_uri": "https://localhost:8080/",
          "height": 68
        },
        "outputId": "cd0b577b-ba73-4160-85b1-e9d48d9886fe"
      },
      "source": [
        "predictions = Linear_reg8.predict(X_test)\n",
        "mae = mean_absolute_error(y_test, predictions)\n",
        "mse = mean_squared_error(y_test, predictions)\n",
        "r2 = r2_score(y_test, predictions)\n",
        "\n",
        "print(\"MAE %.2f\" % mae)\n",
        "print(\"MSE %.2f\" % mse)\n",
        "print(\"r2 %.2f\" % r2)"
      ],
      "execution_count": null,
      "outputs": [
        {
          "output_type": "stream",
          "text": [
            "MAE 27.10\n",
            "MSE 1525.52\n",
            "r2 0.12\n"
          ],
          "name": "stdout"
        }
      ]
    },
    {
      "cell_type": "code",
      "metadata": {
        "id": "tcghmeGawk3E"
      },
      "source": [
        "#Your code here: logwage prediction from jobclass health_ins and health\n",
        "\n",
        "X = np.array(wages[['jobclass','health_ins','health']])\n",
        "\n",
        "y = np.array(wages[['logwage']])\n",
        "# print MAE, MSE, R^2 of test set"
      ],
      "execution_count": null,
      "outputs": []
    },
    {
      "cell_type": "code",
      "metadata": {
        "id": "6F57N6uoVGbt"
      },
      "source": [
        "X_train, X_test, y_train, y_test = train_test_split(X, y, test_size=0.2, random_state=3, shuffle=True)"
      ],
      "execution_count": null,
      "outputs": []
    },
    {
      "cell_type": "code",
      "metadata": {
        "id": "veKWBwAEVKP0"
      },
      "source": [
        "scaler = MinMaxScaler()\n",
        "X_train = scaler.fit_transform(X_train)\n",
        "X_test = scaler.transform(X_test)"
      ],
      "execution_count": null,
      "outputs": []
    },
    {
      "cell_type": "code",
      "metadata": {
        "id": "4ZoSTGF7VMZT",
        "colab": {
          "base_uri": "https://localhost:8080/",
          "height": 34
        },
        "outputId": "d8f68c04-28f3-4c7e-9e17-c7a5bffd30b1"
      },
      "source": [
        "Linear_reg9 = LinearRegression(fit_intercept=True)\n",
        "Linear_reg9.fit(X_train,y_train)"
      ],
      "execution_count": null,
      "outputs": [
        {
          "output_type": "execute_result",
          "data": {
            "text/plain": [
              "LinearRegression(copy_X=True, fit_intercept=True, n_jobs=None, normalize=False)"
            ]
          },
          "metadata": {
            "tags": []
          },
          "execution_count": 54
        }
      ]
    },
    {
      "cell_type": "code",
      "metadata": {
        "id": "qeZ_OZn9VTcj",
        "colab": {
          "base_uri": "https://localhost:8080/",
          "height": 68
        },
        "outputId": "20bf6dd9-216e-4fc6-9353-a1ea52cb0c8b"
      },
      "source": [
        "predictions = Linear_reg9.predict(X_test)\n",
        "mae = mean_absolute_error(y_test, predictions)\n",
        "mse = mean_squared_error(y_test, predictions)\n",
        "r2 = r2_score(y_test, predictions)\n",
        "\n",
        "print(\"MAE %.2f\" % mae)\n",
        "print(\"MSE %.2f\" % mse)\n",
        "print(\"r2 %.2f\" % r2)"
      ],
      "execution_count": null,
      "outputs": [
        {
          "output_type": "stream",
          "text": [
            "MAE 0.24\n",
            "MSE 0.10\n",
            "r2 0.15\n"
          ],
          "name": "stdout"
        }
      ]
    },
    {
      "cell_type": "markdown",
      "metadata": {
        "id": "nbVtreXcwk3J"
      },
      "source": [
        "**Question 10:**  \n",
        "Which target (`wage` or `logwage`) do these features predict the best ?\n"
      ]
    },
    {
      "cell_type": "code",
      "metadata": {
        "id": "XIwhrKpvwk3K",
        "colab": {
          "base_uri": "https://localhost:8080/",
          "height": 34
        },
        "outputId": "744bbf94-e56a-4c29-b07d-7751ac4ef0e7"
      },
      "source": [
        "print(\"logwage\")"
      ],
      "execution_count": null,
      "outputs": [
        {
          "output_type": "stream",
          "text": [
            "logwage\n"
          ],
          "name": "stdout"
        }
      ]
    },
    {
      "cell_type": "markdown",
      "metadata": {
        "id": "mJnZC8sbwk3O"
      },
      "source": [
        "**Task 2.2:**  \n",
        "\n",
        "Start with a model which uses as input features the `jobclass` and `health_ins`. Generate this model first (model 1).  \n",
        "Then **sequentially** (i.e., in a for loop) create 3 more models by adding the `health` (model 2),  the `age` (model 3) then the `year` (model 4) to the previous features matrix. (i.e model1_features -> [`jobclass`, `health_ins`], model2_features -> [`jobclass`, `health_ins`, `health`], model3_features -> [`jobclass`, `health_ins`, `health`,  `age` ] and so on...)  \n",
        "Then plot the training and testing error of these 4 models. \n",
        "\n",
        "**Hint:**\n",
        "- Split your dataset into two sets: the training set (80%) and the test set(20%), set the **shuffle parameter to true** and the **random state to 3**\n",
        "- Create your linear model by fitting the intercept  weight over the training dataset (set the parameter to `True`)\n",
        "- Use the MAE on your test set to compare your 3 models (you should display these values)\n",
        "- Apply normalization (`MinMaxScaler`sklearn module).\n",
        "- Consider these features (**in this order**): `jobclass`, `health_ins`, `health`, `age`, `year`.\n",
        "- you can use python lists to save the training and testing errors\n",
        "\n"
      ]
    },
    {
      "cell_type": "code",
      "metadata": {
        "id": "z8MArdQdwk3P"
      },
      "source": [
        "X = np.array(wages[['jobclass', 'health_ins']])\n",
        "y = np.array(wages[[\"wage\"]])"
      ],
      "execution_count": null,
      "outputs": []
    },
    {
      "cell_type": "code",
      "metadata": {
        "id": "Ly1lZF9oYUe3"
      },
      "source": [
        "X_train, X_test, y_train, y_test = train_test_split(X, y, test_size=0.2, random_state=3, shuffle=True)"
      ],
      "execution_count": null,
      "outputs": []
    },
    {
      "cell_type": "code",
      "metadata": {
        "id": "cqlQ33UtezXd"
      },
      "source": [
        "scaler = MinMaxScaler()\n",
        "scaler.fit_transform(X_train)\n",
        "X_train = scaler.transform(X_train)\n",
        "X_test = scaler.transform(X_test)"
      ],
      "execution_count": null,
      "outputs": []
    },
    {
      "cell_type": "code",
      "metadata": {
        "id": "A0KFzrXbhPj1",
        "colab": {
          "base_uri": "https://localhost:8080/",
          "height": 34
        },
        "outputId": "ac73b5f6-d9aa-4a18-91f2-2f262f24a6b2"
      },
      "source": [
        "Linear_reg10 = LinearRegression(fit_intercept=True)\n",
        "Linear_reg10.fit(X_train,y_train)"
      ],
      "execution_count": null,
      "outputs": [
        {
          "output_type": "execute_result",
          "data": {
            "text/plain": [
              "LinearRegression(copy_X=True, fit_intercept=True, n_jobs=None, normalize=False)"
            ]
          },
          "metadata": {
            "tags": []
          },
          "execution_count": 59
        }
      ]
    },
    {
      "cell_type": "code",
      "metadata": {
        "id": "7GS1PCUVhTYU",
        "colab": {
          "base_uri": "https://localhost:8080/",
          "height": 51
        },
        "outputId": "8be15eb5-0f5b-495e-cae5-6fc1aa140bfa"
      },
      "source": [
        "predictions1 = Linear_reg10.predict(X_test)\n",
        "predictions2 = Linear_reg10.predict(X_train)\n",
        "\n",
        "mae_test = mean_absolute_error(y_test, predictions1)\n",
        "mae_train = mean_absolute_error(y_train, predictions2)\n",
        "\n",
        "\n",
        "print(\"MAE Test %.2f\" % mae_test)\n",
        "print(\"MAE Train %.2f\" % mae_train)"
      ],
      "execution_count": null,
      "outputs": [
        {
          "output_type": "stream",
          "text": [
            "MAE Test 27.31\n",
            "MAE Train 27.63\n"
          ],
          "name": "stdout"
        }
      ]
    },
    {
      "cell_type": "code",
      "metadata": {
        "id": "nK-VyiMGwk3R"
      },
      "source": [
        "X = np.array(wages[['jobclass', 'health_ins','health']])\n",
        "y = np.array(wages[[\"wage\"]])"
      ],
      "execution_count": null,
      "outputs": []
    },
    {
      "cell_type": "code",
      "metadata": {
        "id": "Aqf_00Iphkj9"
      },
      "source": [
        "X_train, X_test, y_train, y_test = train_test_split(X, y, test_size=0.2, random_state=3, shuffle=True)"
      ],
      "execution_count": null,
      "outputs": []
    },
    {
      "cell_type": "code",
      "metadata": {
        "id": "_NkvjE14hqnE"
      },
      "source": [
        "scaler = MinMaxScaler()\n",
        "scaler.fit_transform(X_train)\n",
        "X_train = scaler.transform(X_train)\n",
        "X_test = scaler.transform(X_test)"
      ],
      "execution_count": null,
      "outputs": []
    },
    {
      "cell_type": "code",
      "metadata": {
        "id": "pD1rIa4uhsrC",
        "colab": {
          "base_uri": "https://localhost:8080/",
          "height": 34
        },
        "outputId": "2c4910ea-7343-48b8-dba5-d7085129d891"
      },
      "source": [
        "Linear_reg11 = LinearRegression(fit_intercept=True)\n",
        "Linear_reg11.fit(X_train,y_train)"
      ],
      "execution_count": null,
      "outputs": [
        {
          "output_type": "execute_result",
          "data": {
            "text/plain": [
              "LinearRegression(copy_X=True, fit_intercept=True, n_jobs=None, normalize=False)"
            ]
          },
          "metadata": {
            "tags": []
          },
          "execution_count": 64
        }
      ]
    },
    {
      "cell_type": "code",
      "metadata": {
        "id": "m221jJephw-G",
        "colab": {
          "base_uri": "https://localhost:8080/",
          "height": 51
        },
        "outputId": "6bf91f91-9ab7-46c1-9a26-c611ec0995f6"
      },
      "source": [
        "predictions1 = Linear_reg11.predict(X_test)\n",
        "predictions2 = Linear_reg11.predict(X_train)\n",
        "\n",
        "mae_test = mean_absolute_error(y_test, predictions1)\n",
        "mae_train = mean_absolute_error(y_train, predictions2)\n",
        "\n",
        "\n",
        "print(\"MAE Test %.2f\" % mae_test)\n",
        "print(\"MAE Train %.2f\" % mae_train)"
      ],
      "execution_count": null,
      "outputs": [
        {
          "output_type": "stream",
          "text": [
            "MAE Test 27.10\n",
            "MAE Train 27.42\n"
          ],
          "name": "stdout"
        }
      ]
    },
    {
      "cell_type": "code",
      "metadata": {
        "id": "sgWwKOVblFc7"
      },
      "source": [
        "X = np.array(wages[['jobclass', 'health_ins','health','age']])\n",
        "y = np.array(wages[[\"wage\"]])"
      ],
      "execution_count": null,
      "outputs": []
    },
    {
      "cell_type": "code",
      "metadata": {
        "id": "i2d9mPmDlPxD"
      },
      "source": [
        "X_train, X_test, y_train, y_test = train_test_split(X, y, test_size=0.2, random_state=3, shuffle=True)"
      ],
      "execution_count": null,
      "outputs": []
    },
    {
      "cell_type": "code",
      "metadata": {
        "id": "0ebHlrYhlRhl"
      },
      "source": [
        "scaler = MinMaxScaler()\n",
        "scaler.fit_transform(X_train)\n",
        "X_train = scaler.transform(X_train)\n",
        "X_test = scaler.transform(X_test)"
      ],
      "execution_count": null,
      "outputs": []
    },
    {
      "cell_type": "code",
      "metadata": {
        "id": "T2TcHH02lTd9",
        "colab": {
          "base_uri": "https://localhost:8080/",
          "height": 34
        },
        "outputId": "e71f1f2b-24b9-405e-d5b7-c03a869b9387"
      },
      "source": [
        "Linear_reg12 = LinearRegression(fit_intercept=True)\n",
        "Linear_reg12.fit(X_train,y_train)"
      ],
      "execution_count": null,
      "outputs": [
        {
          "output_type": "execute_result",
          "data": {
            "text/plain": [
              "LinearRegression(copy_X=True, fit_intercept=True, n_jobs=None, normalize=False)"
            ]
          },
          "metadata": {
            "tags": []
          },
          "execution_count": 69
        }
      ]
    },
    {
      "cell_type": "code",
      "metadata": {
        "id": "SDMf-LbElWea",
        "colab": {
          "base_uri": "https://localhost:8080/",
          "height": 51
        },
        "outputId": "117d9772-5dfb-4379-b26c-b7276ec0a74e"
      },
      "source": [
        "predictions1 = Linear_reg12.predict(X_test)\n",
        "predictions2 = Linear_reg12.predict(X_train)\n",
        "\n",
        "mae_test = mean_absolute_error(y_test, predictions1)\n",
        "mae_train = mean_absolute_error(y_train, predictions2)\n",
        "\n",
        "\n",
        "print(\"MAE Test %.2f\" % mae_test)\n",
        "print(\"MAE Train %.2f\" % mae_train)"
      ],
      "execution_count": null,
      "outputs": [
        {
          "output_type": "stream",
          "text": [
            "MAE Test 26.82\n",
            "MAE Train 26.74\n"
          ],
          "name": "stdout"
        }
      ]
    },
    {
      "cell_type": "code",
      "metadata": {
        "id": "woqs27vYlfm6"
      },
      "source": [
        "X = np.array(wages[['jobclass', 'health_ins','health','age','year']])\n",
        "y = np.array(wages[[\"wage\"]])"
      ],
      "execution_count": null,
      "outputs": []
    },
    {
      "cell_type": "code",
      "metadata": {
        "id": "cde7q4DillqT"
      },
      "source": [
        "X_train, X_test, y_train, y_test = train_test_split(X, y, test_size=0.2, random_state=3, shuffle=True)"
      ],
      "execution_count": null,
      "outputs": []
    },
    {
      "cell_type": "code",
      "metadata": {
        "id": "oj0CCf1eloF7"
      },
      "source": [
        "scaler = MinMaxScaler()\n",
        "scaler.fit_transform(X_train)\n",
        "X_train = scaler.transform(X_train)\n",
        "X_test = scaler.transform(X_test)"
      ],
      "execution_count": null,
      "outputs": []
    },
    {
      "cell_type": "code",
      "metadata": {
        "id": "YKWL5ZQIluF5",
        "colab": {
          "base_uri": "https://localhost:8080/",
          "height": 34
        },
        "outputId": "8f1a58cf-7c8c-431b-cc68-13046eba741f"
      },
      "source": [
        "Linear_reg13 = LinearRegression(fit_intercept=True)\n",
        "Linear_reg13.fit(X_train,y_train)"
      ],
      "execution_count": null,
      "outputs": [
        {
          "output_type": "execute_result",
          "data": {
            "text/plain": [
              "LinearRegression(copy_X=True, fit_intercept=True, n_jobs=None, normalize=False)"
            ]
          },
          "metadata": {
            "tags": []
          },
          "execution_count": 74
        }
      ]
    },
    {
      "cell_type": "code",
      "metadata": {
        "id": "1LAN3E7Mlzlw",
        "colab": {
          "base_uri": "https://localhost:8080/",
          "height": 51
        },
        "outputId": "cafad160-1514-44b8-f940-341e4ba405ca"
      },
      "source": [
        "predictions1 = Linear_reg13.predict(X_test)\n",
        "predictions2 = Linear_reg13.predict(X_train)\n",
        "\n",
        "mae_test = mean_absolute_error(y_test, predictions1)\n",
        "mae_train = mean_absolute_error(y_train, predictions2)\n",
        "\n",
        "\n",
        "print(\"MAE Test %.2f\" % mae_test)\n",
        "print(\"MAE Train %.2f\" % mae_train)"
      ],
      "execution_count": null,
      "outputs": [
        {
          "output_type": "stream",
          "text": [
            "MAE Test 26.84\n",
            "MAE Train 26.68\n"
          ],
          "name": "stdout"
        }
      ]
    },
    {
      "cell_type": "code",
      "metadata": {
        "id": "2YwpSqoteonZ",
        "colab": {
          "base_uri": "https://localhost:8080/",
          "height": 51
        },
        "outputId": "9e71f5ff-5fe2-4c5b-b73f-52cdf5cef03b"
      },
      "source": [
        "# Loop Version\n",
        "x = wages\n",
        "y = x.copy()\n",
        "\n",
        "numpy_data = y\n",
        "df = pd.DataFrame(data = y)\n",
        "\n",
        "X = df[['jobclass', 'health_ins','health','age','year']]\n",
        "y = df[[\"wage\"]]\n",
        "\n",
        "train_err = []\n",
        "test_err = []\n",
        "\n",
        "for nbr_col in range(2,6):\n",
        "  X_temp = X[X.columns[:nbr_col]]\n",
        "  X_train, X_test, y_train, y_test = train_test_split(X_temp, y, test_size=0.2, shuffle=True, random_state=3)\n",
        "  scaler = MinMaxScaler()\n",
        "  scaler.fit_transform(X_train)\n",
        "  X_train = scaler.transform(X_train)\n",
        "  X_test = scaler.transform(X_test) \n",
        "  LR= LinearRegression(fit_intercept=True)\n",
        "  LR.fit(X_train, y_train)\n",
        "  train_err.append(mean_absolute_error(y_train, LR.predict(X_train)))\n",
        "  test_err.append(mean_absolute_error(y_test, LR.predict(X_test)))\n",
        "\n",
        "\n",
        "print(\"Train error: \", train_err)\n",
        "print(\"Test error : \", test_err)"
      ],
      "execution_count": null,
      "outputs": [
        {
          "output_type": "stream",
          "text": [
            "Train error:  [27.629902343685906, 27.416911700295206, 26.740562098569626, 26.676794541477687]\n",
            "Test error :  [27.30760238613829, 27.09906338657128, 26.818192395136048, 26.83566090412051]\n"
          ],
          "name": "stdout"
        }
      ]
    },
    {
      "cell_type": "markdown",
      "metadata": {
        "id": "bxF28Wsc0jKl"
      },
      "source": [
        "**Question 11:**  \n",
        "Which model the smallest absolute difference between train and test MAE (across all the models that you tried) ?"
      ]
    },
    {
      "cell_type": "code",
      "metadata": {
        "id": "uze9Q6F31a0a",
        "colab": {
          "base_uri": "https://localhost:8080/",
          "height": 34
        },
        "outputId": "cc4baff1-f294-4ae5-c338-e10c04477e84"
      },
      "source": [
        "print(\"Linear_reg12\")"
      ],
      "execution_count": null,
      "outputs": [
        {
          "output_type": "stream",
          "text": [
            "Linear_reg12\n"
          ],
          "name": "stdout"
        }
      ]
    },
    {
      "cell_type": "markdown",
      "metadata": {
        "id": "UAAjBl4Gwk3X"
      },
      "source": [
        "**Question 12:**  \n",
        "Which of the models have the highest test error (across all the models that you tried) ?"
      ]
    },
    {
      "cell_type": "code",
      "metadata": {
        "id": "1A0f9Dkb1eDN",
        "colab": {
          "base_uri": "https://localhost:8080/",
          "height": 34
        },
        "outputId": "72f74615-f478-4c31-f349-ab20d5e1c154"
      },
      "source": [
        "print(\"Linear_reg10\")"
      ],
      "execution_count": null,
      "outputs": [
        {
          "output_type": "stream",
          "text": [
            "Linear_reg10\n"
          ],
          "name": "stdout"
        }
      ]
    },
    {
      "cell_type": "markdown",
      "metadata": {
        "id": "2G_iNWyJwk3Y"
      },
      "source": [
        "### Cross Validation feature regression\n",
        "\n",
        "**Task 2.3:**  \n",
        "Apply a one hot encoding over the columns:`race`, `education` and `maritl` (using the function `get_dummies()`).  \n",
        " \n",
        "Consider all columns of the new wages dataframe (except `wage` and `logwage` which are the targets) as model features. Implement a cross validation procedure, save the scores of the different folds in an array.\n",
        "\n",
        "**Hint:**  \n",
        "- Use `get_dummies()` function from pandas\n",
        "- Use `KFold()` module from sklearn with **3 splits**\n",
        "- Split your dataset into two sets: the training set (80%) and the test set(20%), set the **shuffle parameter to true** and the **random state to 3**\n",
        "- Create your linear model by fitting the intercept  weight over the training dataset (set the parameter to `True`)\n",
        "- Use the R^2 score, the MAE and the MSE on your test set to compare your 3 models (you should display these values)\n",
        "- Apply normalization (`MinMaxScaler`sklearn module)."
      ]
    },
    {
      "cell_type": "code",
      "metadata": {
        "id": "G_DdbJfiwk3Y"
      },
      "source": [
        "#Your code here: one hot encoding\n",
        "\n",
        "df['race'] = pd.Categorical(wages['race'])\n",
        "dfDummies = pd.get_dummies(df['race'], prefix='race')\n",
        "df = pd.concat([df, dfDummies], axis = 1)\n"
      ],
      "execution_count": null,
      "outputs": []
    },
    {
      "cell_type": "code",
      "metadata": {
        "id": "mCuSfiqyrKJt"
      },
      "source": [
        "df['education'] = pd.Categorical(wages['education'])\n",
        "dfDummies = pd.get_dummies(df['education'], prefix='education')\n",
        "df = pd.concat([df, dfDummies], axis = 1)"
      ],
      "execution_count": null,
      "outputs": []
    },
    {
      "cell_type": "code",
      "metadata": {
        "id": "Lr_VADP5rK6T"
      },
      "source": [
        "df['maritl'] = pd.Categorical(wages['maritl'])\n",
        "dfDummies = pd.get_dummies(df['maritl'], prefix='maritl')\n",
        "df = pd.concat([df, dfDummies], axis = 1)"
      ],
      "execution_count": null,
      "outputs": []
    },
    {
      "cell_type": "code",
      "metadata": {
        "id": "xqcNC2WRlCVM",
        "colab": {
          "base_uri": "https://localhost:8080/",
          "height": 241
        },
        "outputId": "754c65c1-f918-4254-8f1a-6c93070cd93e"
      },
      "source": [
        "df2 = df.drop(columns=[\"maritl\",\"race\",\"education\"])\n",
        "df2.head()"
      ],
      "execution_count": null,
      "outputs": [
        {
          "output_type": "execute_result",
          "data": {
            "text/html": [
              "<div>\n",
              "<style scoped>\n",
              "    .dataframe tbody tr th:only-of-type {\n",
              "        vertical-align: middle;\n",
              "    }\n",
              "\n",
              "    .dataframe tbody tr th {\n",
              "        vertical-align: top;\n",
              "    }\n",
              "\n",
              "    .dataframe thead th {\n",
              "        text-align: right;\n",
              "    }\n",
              "</style>\n",
              "<table border=\"1\" class=\"dataframe\">\n",
              "  <thead>\n",
              "    <tr style=\"text-align: right;\">\n",
              "      <th></th>\n",
              "      <th>year</th>\n",
              "      <th>age</th>\n",
              "      <th>jobclass</th>\n",
              "      <th>health</th>\n",
              "      <th>health_ins</th>\n",
              "      <th>logwage</th>\n",
              "      <th>wage</th>\n",
              "      <th>race_Asian</th>\n",
              "      <th>race_Black</th>\n",
              "      <th>race_Other</th>\n",
              "      <th>race_White</th>\n",
              "      <th>education_&lt; HS Grad</th>\n",
              "      <th>education_Advanced Degree</th>\n",
              "      <th>education_College Grad</th>\n",
              "      <th>education_HS Grad</th>\n",
              "      <th>education_Some College</th>\n",
              "      <th>maritl_Divorced</th>\n",
              "      <th>maritl_Married</th>\n",
              "      <th>maritl_Never Married</th>\n",
              "      <th>maritl_Separated</th>\n",
              "      <th>maritl_Widowed</th>\n",
              "    </tr>\n",
              "  </thead>\n",
              "  <tbody>\n",
              "    <tr>\n",
              "      <th>0</th>\n",
              "      <td>2006</td>\n",
              "      <td>18</td>\n",
              "      <td>0</td>\n",
              "      <td>0</td>\n",
              "      <td>0</td>\n",
              "      <td>4.318063</td>\n",
              "      <td>75.043154</td>\n",
              "      <td>0</td>\n",
              "      <td>0</td>\n",
              "      <td>0</td>\n",
              "      <td>1</td>\n",
              "      <td>1</td>\n",
              "      <td>0</td>\n",
              "      <td>0</td>\n",
              "      <td>0</td>\n",
              "      <td>0</td>\n",
              "      <td>0</td>\n",
              "      <td>0</td>\n",
              "      <td>1</td>\n",
              "      <td>0</td>\n",
              "      <td>0</td>\n",
              "    </tr>\n",
              "    <tr>\n",
              "      <th>1</th>\n",
              "      <td>2004</td>\n",
              "      <td>24</td>\n",
              "      <td>1</td>\n",
              "      <td>1</td>\n",
              "      <td>0</td>\n",
              "      <td>4.255273</td>\n",
              "      <td>70.476020</td>\n",
              "      <td>0</td>\n",
              "      <td>0</td>\n",
              "      <td>0</td>\n",
              "      <td>1</td>\n",
              "      <td>0</td>\n",
              "      <td>0</td>\n",
              "      <td>1</td>\n",
              "      <td>0</td>\n",
              "      <td>0</td>\n",
              "      <td>0</td>\n",
              "      <td>0</td>\n",
              "      <td>1</td>\n",
              "      <td>0</td>\n",
              "      <td>0</td>\n",
              "    </tr>\n",
              "    <tr>\n",
              "      <th>2</th>\n",
              "      <td>2003</td>\n",
              "      <td>45</td>\n",
              "      <td>0</td>\n",
              "      <td>0</td>\n",
              "      <td>1</td>\n",
              "      <td>4.875061</td>\n",
              "      <td>130.982177</td>\n",
              "      <td>0</td>\n",
              "      <td>0</td>\n",
              "      <td>0</td>\n",
              "      <td>1</td>\n",
              "      <td>0</td>\n",
              "      <td>0</td>\n",
              "      <td>0</td>\n",
              "      <td>0</td>\n",
              "      <td>1</td>\n",
              "      <td>0</td>\n",
              "      <td>1</td>\n",
              "      <td>0</td>\n",
              "      <td>0</td>\n",
              "      <td>0</td>\n",
              "    </tr>\n",
              "    <tr>\n",
              "      <th>3</th>\n",
              "      <td>2003</td>\n",
              "      <td>43</td>\n",
              "      <td>1</td>\n",
              "      <td>1</td>\n",
              "      <td>1</td>\n",
              "      <td>5.041393</td>\n",
              "      <td>154.685293</td>\n",
              "      <td>1</td>\n",
              "      <td>0</td>\n",
              "      <td>0</td>\n",
              "      <td>0</td>\n",
              "      <td>0</td>\n",
              "      <td>0</td>\n",
              "      <td>1</td>\n",
              "      <td>0</td>\n",
              "      <td>0</td>\n",
              "      <td>0</td>\n",
              "      <td>1</td>\n",
              "      <td>0</td>\n",
              "      <td>0</td>\n",
              "      <td>0</td>\n",
              "    </tr>\n",
              "    <tr>\n",
              "      <th>4</th>\n",
              "      <td>2005</td>\n",
              "      <td>50</td>\n",
              "      <td>1</td>\n",
              "      <td>0</td>\n",
              "      <td>1</td>\n",
              "      <td>4.318063</td>\n",
              "      <td>75.043154</td>\n",
              "      <td>0</td>\n",
              "      <td>0</td>\n",
              "      <td>0</td>\n",
              "      <td>1</td>\n",
              "      <td>0</td>\n",
              "      <td>0</td>\n",
              "      <td>0</td>\n",
              "      <td>1</td>\n",
              "      <td>0</td>\n",
              "      <td>1</td>\n",
              "      <td>0</td>\n",
              "      <td>0</td>\n",
              "      <td>0</td>\n",
              "      <td>0</td>\n",
              "    </tr>\n",
              "  </tbody>\n",
              "</table>\n",
              "</div>"
            ],
            "text/plain": [
              "   year  age  jobclass  health  health_ins   logwage        wage  race_Asian  race_Black  race_Other  race_White  education_< HS Grad  education_Advanced Degree  education_College Grad  education_HS Grad  education_Some College  maritl_Divorced  maritl_Married  maritl_Never Married  maritl_Separated  maritl_Widowed\n",
              "0  2006   18         0       0           0  4.318063   75.043154           0           0           0           1                    1                          0                       0                  0                       0                0               0                     1                 0               0\n",
              "1  2004   24         1       1           0  4.255273   70.476020           0           0           0           1                    0                          0                       1                  0                       0                0               0                     1                 0               0\n",
              "2  2003   45         0       0           1  4.875061  130.982177           0           0           0           1                    0                          0                       0                  0                       1                0               1                     0                 0               0\n",
              "3  2003   43         1       1           1  5.041393  154.685293           1           0           0           0                    0                          0                       1                  0                       0                0               1                     0                 0               0\n",
              "4  2005   50         1       0           1  4.318063   75.043154           0           0           0           1                    0                          0                       0                  1                       0                1               0                     0                 0               0"
            ]
          },
          "metadata": {
            "tags": []
          },
          "execution_count": 80
        }
      ]
    },
    {
      "cell_type": "code",
      "metadata": {
        "id": "Gw8TH-GZwk3b",
        "colab": {
          "base_uri": "https://localhost:8080/",
          "height": 178
        },
        "outputId": "fb5c9cb4-6dcc-4ef8-d86d-465f57d6394c"
      },
      "source": [
        "targets = ['wage', 'logwage']\n",
        "features = [x for x in df2.columns.tolist() if x not in targets]"
      ],
      "execution_count": null,
      "outputs": [
        {
          "output_type": "error",
          "ename": "NameError",
          "evalue": "ignored",
          "traceback": [
            "\u001b[0;31m---------------------------------------------------------------------------\u001b[0m",
            "\u001b[0;31mNameError\u001b[0m                                 Traceback (most recent call last)",
            "\u001b[0;32m<ipython-input-1-f0d2baba9b05>\u001b[0m in \u001b[0;36m<module>\u001b[0;34m()\u001b[0m\n\u001b[1;32m      1\u001b[0m \u001b[0mtargets\u001b[0m \u001b[0;34m=\u001b[0m \u001b[0;34m[\u001b[0m\u001b[0;34m'wage'\u001b[0m\u001b[0;34m,\u001b[0m \u001b[0;34m'logwage'\u001b[0m\u001b[0;34m]\u001b[0m\u001b[0;34m\u001b[0m\u001b[0;34m\u001b[0m\u001b[0m\n\u001b[0;32m----> 2\u001b[0;31m \u001b[0mfeatures\u001b[0m \u001b[0;34m=\u001b[0m \u001b[0;34m[\u001b[0m\u001b[0mx\u001b[0m \u001b[0;32mfor\u001b[0m \u001b[0mx\u001b[0m \u001b[0;32min\u001b[0m \u001b[0mdf2\u001b[0m\u001b[0;34m.\u001b[0m\u001b[0mcolumns\u001b[0m\u001b[0;34m.\u001b[0m\u001b[0mtolist\u001b[0m\u001b[0;34m(\u001b[0m\u001b[0;34m)\u001b[0m \u001b[0;32mif\u001b[0m \u001b[0mx\u001b[0m \u001b[0;32mnot\u001b[0m \u001b[0;32min\u001b[0m \u001b[0mtargets\u001b[0m\u001b[0;34m]\u001b[0m\u001b[0;34m\u001b[0m\u001b[0;34m\u001b[0m\u001b[0m\n\u001b[0m",
            "\u001b[0;31mNameError\u001b[0m: name 'df2' is not defined"
          ]
        }
      ]
    },
    {
      "cell_type": "code",
      "metadata": {
        "id": "P7sSx95Mwk3f"
      },
      "source": [
        "#Your code here: cross validation with KFolds over 3 splits\n",
        "X = df2[features]\n",
        "y = df2['wage']"
      ],
      "execution_count": null,
      "outputs": []
    },
    {
      "cell_type": "code",
      "metadata": {
        "id": "iLzmfJpFTvVb"
      },
      "source": [
        "n_splits = 3\n",
        "cv = KFold(n_splits=n_splits)"
      ],
      "execution_count": null,
      "outputs": []
    },
    {
      "cell_type": "code",
      "metadata": {
        "id": "fbLG0EWWgipJ",
        "colab": {
          "base_uri": "https://localhost:8080/",
          "height": 51
        },
        "outputId": "cdd29970-9343-494c-b64c-e18197cc818c"
      },
      "source": [
        "# Initialise the kfold and \n",
        "n_splits = 3\n",
        "cv = KFold(n_splits=n_splits)\n",
        "# 3) Define your linear model before the loop !!\n",
        "model = LinearRegression(fit_intercept=True)\n",
        "scaler = MinMaxScaler()\n",
        "\n",
        "scores = []\n",
        "\n",
        "for train_index, test_index in cv.split(X):\n",
        "    \n",
        "    #print(\"Train Index: \", train_index, \"\\n\")\n",
        "    #print(\"Test Index: \", test_index)\n",
        "   \n",
        "    X_train, X_test, y_train, y_test = X.iloc[train_index], X.iloc[test_index], y.iloc[train_index], y[test_index]\n",
        "    scaler.fit_transform(X_train, y_train)\n",
        "    X_train = scaler.transform(X_train)\n",
        "    X_test = scaler.transform(X_test)\n",
        "   \n",
        "    model.fit(X_train, y_train)\n",
        "    \n",
        "    scores.append(model.score(X_test, y_test))\n",
        "\n",
        "print(\"The R^2 scores: \", scores)\n",
        "print(\"Accuracy %.2f \" %np.mean(scores))"
      ],
      "execution_count": null,
      "outputs": [
        {
          "output_type": "stream",
          "text": [
            "The R^2 scores:  [0.3362481333251675, 0.3170636791441962, 0.34725666011295353]\n",
            "Accuracy 0.33 \n"
          ],
          "name": "stdout"
        }
      ]
    },
    {
      "cell_type": "markdown",
      "metadata": {
        "id": "gH8ruseTOcyV"
      },
      "source": [
        "**Question 13:**  \n",
        "What is the mean (average) value of the R^2 scores across all folds (rounding to two decimals place, e.g: 1.11) ?\n"
      ]
    },
    {
      "cell_type": "code",
      "metadata": {
        "id": "VUPYtpbb3zFx",
        "colab": {
          "base_uri": "https://localhost:8080/",
          "height": 34
        },
        "outputId": "90a36810-2e21-40fd-91fc-1554cce1a559"
      },
      "source": [
        "print(\".33\")"
      ],
      "execution_count": null,
      "outputs": [
        {
          "output_type": "stream",
          "text": [
            ".33\n"
          ],
          "name": "stdout"
        }
      ]
    },
    {
      "cell_type": "markdown",
      "metadata": {
        "id": "ZtFtiaEV370W"
      },
      "source": [
        "## Part 3 : Classification\n",
        "\n",
        "For this part we will use the Titanic dataset. Load the dataset in a pandas dataframe"
      ]
    },
    {
      "cell_type": "code",
      "metadata": {
        "id": "qdHm4zCxpUp9",
        "colab": {
          "base_uri": "https://localhost:8080/",
          "height": 204
        },
        "outputId": "443934a0-10de-45d9-8c51-9d36421ce81a"
      },
      "source": [
        "#data link\n",
        "#'https://raw.githubusercontent.com/ahmadajal/DM_ML_course_public/master/5.%20Classification/in-classExercise/data/titanic_train-clean.csv'\n",
        "\n",
        "\n",
        "\n",
        "url = \"https://raw.githubusercontent.com/ahmadajal/DM_ML_course_public/master/5.%20Classification/in-classExercise/data/titanic_train-clean.csv\"\n",
        "titanic = pd.read_csv(url)\n",
        "titanic.head()"
      ],
      "execution_count": null,
      "outputs": [
        {
          "output_type": "execute_result",
          "data": {
            "text/html": [
              "<div>\n",
              "<style scoped>\n",
              "    .dataframe tbody tr th:only-of-type {\n",
              "        vertical-align: middle;\n",
              "    }\n",
              "\n",
              "    .dataframe tbody tr th {\n",
              "        vertical-align: top;\n",
              "    }\n",
              "\n",
              "    .dataframe thead th {\n",
              "        text-align: right;\n",
              "    }\n",
              "</style>\n",
              "<table border=\"1\" class=\"dataframe\">\n",
              "  <thead>\n",
              "    <tr style=\"text-align: right;\">\n",
              "      <th></th>\n",
              "      <th>PassengerId</th>\n",
              "      <th>Age</th>\n",
              "      <th>Embarked</th>\n",
              "      <th>Fare</th>\n",
              "      <th>Pclass</th>\n",
              "      <th>Sex</th>\n",
              "      <th>Survived</th>\n",
              "      <th>Title</th>\n",
              "      <th>FSize</th>\n",
              "    </tr>\n",
              "  </thead>\n",
              "  <tbody>\n",
              "    <tr>\n",
              "      <th>0</th>\n",
              "      <td>1</td>\n",
              "      <td>22.0</td>\n",
              "      <td>2</td>\n",
              "      <td>7.2500</td>\n",
              "      <td>3</td>\n",
              "      <td>1</td>\n",
              "      <td>0.0</td>\n",
              "      <td>12</td>\n",
              "      <td>1</td>\n",
              "    </tr>\n",
              "    <tr>\n",
              "      <th>1</th>\n",
              "      <td>2</td>\n",
              "      <td>38.0</td>\n",
              "      <td>0</td>\n",
              "      <td>71.2833</td>\n",
              "      <td>1</td>\n",
              "      <td>0</td>\n",
              "      <td>1.0</td>\n",
              "      <td>13</td>\n",
              "      <td>1</td>\n",
              "    </tr>\n",
              "    <tr>\n",
              "      <th>2</th>\n",
              "      <td>3</td>\n",
              "      <td>26.0</td>\n",
              "      <td>2</td>\n",
              "      <td>7.9250</td>\n",
              "      <td>3</td>\n",
              "      <td>0</td>\n",
              "      <td>1.0</td>\n",
              "      <td>9</td>\n",
              "      <td>0</td>\n",
              "    </tr>\n",
              "    <tr>\n",
              "      <th>3</th>\n",
              "      <td>4</td>\n",
              "      <td>35.0</td>\n",
              "      <td>2</td>\n",
              "      <td>53.1000</td>\n",
              "      <td>1</td>\n",
              "      <td>0</td>\n",
              "      <td>1.0</td>\n",
              "      <td>13</td>\n",
              "      <td>1</td>\n",
              "    </tr>\n",
              "    <tr>\n",
              "      <th>4</th>\n",
              "      <td>5</td>\n",
              "      <td>35.0</td>\n",
              "      <td>2</td>\n",
              "      <td>8.0500</td>\n",
              "      <td>3</td>\n",
              "      <td>1</td>\n",
              "      <td>0.0</td>\n",
              "      <td>12</td>\n",
              "      <td>0</td>\n",
              "    </tr>\n",
              "  </tbody>\n",
              "</table>\n",
              "</div>"
            ],
            "text/plain": [
              "   PassengerId   Age  Embarked     Fare  Pclass  Sex  Survived  Title  FSize\n",
              "0            1  22.0         2   7.2500       3    1       0.0     12      1\n",
              "1            2  38.0         0  71.2833       1    0       1.0     13      1\n",
              "2            3  26.0         2   7.9250       3    0       1.0      9      0\n",
              "3            4  35.0         2  53.1000       1    0       1.0     13      1\n",
              "4            5  35.0         2   8.0500       3    1       0.0     12      0"
            ]
          },
          "metadata": {
            "tags": []
          },
          "execution_count": 86
        }
      ]
    },
    {
      "cell_type": "markdown",
      "metadata": {
        "id": "J6IShLhopUqB"
      },
      "source": [
        "The goal of the exercise will be to classify if a passenger has survived (survived = 1) given some features. Let's use *Age, Embarked, Fare, Pclass, Sex* as features and *Survived* as target. \n",
        "Your first task is to cast the survived column to *Integer* and to define your dataframe of features (X) and your dataframe of target (y)"
      ]
    },
    {
      "cell_type": "code",
      "metadata": {
        "id": "JAWaPD0ypUqC"
      },
      "source": [
        "# cast column Survived to int\n",
        "titanic['Survived'] = titanic['Survived'].astype(int)\n",
        "\n",
        "X = titanic[['Age','Embarked','Fare','Pclass','Sex']]# select columns as input features\n",
        "y = titanic['Survived'] # select Survived column"
      ],
      "execution_count": null,
      "outputs": []
    },
    {
      "cell_type": "markdown",
      "metadata": {
        "id": "c9cMgvFIpUqE"
      },
      "source": [
        "Let's create a train and a test set with sklearn method *train_test_split*. We are going to use 80% for training and 20% for testing"
      ]
    },
    {
      "cell_type": "markdown",
      "metadata": {
        "id": "YymoWVVopUqF"
      },
      "source": [
        "**IMPORTANT POINT** : *train_test_split* randomizes the data. In order to have the same results as those expected we need to control this randomization by giving a value for the **random_state** attribute of this method. Here use **random_state = 0** or your results will be different from ours and you won't get points"
      ]
    },
    {
      "cell_type": "code",
      "metadata": {
        "id": "OnRhNeN5pUqF"
      },
      "source": [
        "# create train/test split\n",
        "X_train, X_test, y_train, y_test = train_test_split(X, y, test_size=0.2, random_state=0)"
      ],
      "execution_count": null,
      "outputs": []
    },
    {
      "cell_type": "markdown",
      "metadata": {
        "id": "g7De5DlipUqH"
      },
      "source": [
        "We are going to use the Logistic Regression for our classification, without adding any parameters. You can train the model on train set"
      ]
    },
    {
      "cell_type": "code",
      "metadata": {
        "id": "Zl7SL-hxpUqH",
        "colab": {
          "base_uri": "https://localhost:8080/",
          "height": 102
        },
        "outputId": "5e786070-ae0d-4f20-c8dd-fa871f86f17a"
      },
      "source": [
        "# create logistic regression (don't put any parameters) and create the model using the training data\n",
        "from sklearn.linear_model import LogisticRegression\n",
        "model = LogisticRegression()\n",
        "model.fit(X_train, y_train)"
      ],
      "execution_count": null,
      "outputs": [
        {
          "output_type": "execute_result",
          "data": {
            "text/plain": [
              "LogisticRegression(C=1.0, class_weight=None, dual=False, fit_intercept=True,\n",
              "                   intercept_scaling=1, l1_ratio=None, max_iter=100,\n",
              "                   multi_class='auto', n_jobs=None, penalty='l2',\n",
              "                   random_state=None, solver='lbfgs', tol=0.0001, verbose=0,\n",
              "                   warm_start=False)"
            ]
          },
          "metadata": {
            "tags": []
          },
          "execution_count": 90
        }
      ]
    },
    {
      "cell_type": "markdown",
      "metadata": {
        "id": "6vyPjyzapUqK"
      },
      "source": [
        "Remember, logistic regression tries to find a vector $\\vec w$ with the same dimension as we have features (here 5) and a number $b$, the intercept\n",
        "\n",
        "**Question 14 :** Find the fourth component of the vector w (the one corresponding to Pclass), round it to the second decimal (exemple : -6.06) <br>\n",
        "**Hint :** Arrays indices start at 0"
      ]
    },
    {
      "cell_type": "code",
      "metadata": {
        "id": "tz7q5yr6pUqK",
        "colab": {
          "base_uri": "https://localhost:8080/",
          "height": 68
        },
        "outputId": "4621932e-08d6-4d68-9d25-d7a5fb1857ba"
      },
      "source": [
        "# print the proper coefficient of the model\n",
        "print(model.coef_)\n",
        "print(model.intercept_)\n",
        "def x2(x1, b, w0, w1):\n",
        "    return  -(x1*w0 + b)/w1"
      ],
      "execution_count": null,
      "outputs": [
        {
          "output_type": "stream",
          "text": [
            "[[-3.59289230e-02 -2.34315132e-01 -2.31188711e-04 -1.05533563e+00\n",
            "  -2.44372322e+00]]\n",
            "[4.84712737]\n"
          ],
          "name": "stdout"
        }
      ]
    },
    {
      "cell_type": "code",
      "metadata": {
        "id": "3hO4OJQp4ja0",
        "colab": {
          "base_uri": "https://localhost:8080/",
          "height": 34
        },
        "outputId": "990fe20a-b92f-40cd-ff74-1e02e131e825"
      },
      "source": [
        "print(round(-1.05533563e+00, 2))\n"
      ],
      "execution_count": null,
      "outputs": [
        {
          "output_type": "stream",
          "text": [
            "-1.06\n"
          ],
          "name": "stdout"
        }
      ]
    },
    {
      "cell_type": "markdown",
      "metadata": {
        "id": "igWuR7g2kARa"
      },
      "source": [
        "**Question 15 :** Find b, the intercept. Round it to the second decimal (exemple : -6.06)"
      ]
    },
    {
      "cell_type": "code",
      "metadata": {
        "id": "YbYtncjrpUqL",
        "colab": {
          "base_uri": "https://localhost:8080/",
          "height": 34
        },
        "outputId": "2bff3d66-ed0b-4be7-f9fd-d20c30994990"
      },
      "source": [
        "model.intercept_.round(2)"
      ],
      "execution_count": null,
      "outputs": [
        {
          "output_type": "execute_result",
          "data": {
            "text/plain": [
              "array([4.85])"
            ]
          },
          "metadata": {
            "tags": []
          },
          "execution_count": 94
        }
      ]
    },
    {
      "cell_type": "markdown",
      "metadata": {
        "id": "6AlrQPNcpUqO"
      },
      "source": [
        "**Question 16** : If a 42 years old man (sex = 0), embarked in city with id 0, paid his fare 17.9250 in Pclass 2, what is his probability to survive (i.e to belong to class 1). Round it to the 2nd digit (i.e. 0.12)"
      ]
    },
    {
      "cell_type": "code",
      "metadata": {
        "id": "M6Ov8M76pUqO",
        "colab": {
          "base_uri": "https://localhost:8080/",
          "height": 51
        },
        "outputId": "173c8d05-732f-445c-ee8b-13489dd8263c"
      },
      "source": [
        "# print probability to survive for this person\n",
        "print(model.predict([[42,0,17.9250,2,0]]))\n",
        "print(model.predict_proba([[42,0,17.9250,2,0]]).round(2))"
      ],
      "execution_count": null,
      "outputs": [
        {
          "output_type": "stream",
          "text": [
            "[1]\n",
            "[[0.23 0.77]]\n"
          ],
          "name": "stdout"
        }
      ]
    },
    {
      "cell_type": "markdown",
      "metadata": {
        "id": "KbL8EyW4pUqb"
      },
      "source": [
        "**Question 17**: Compute the confusion matrix using the test data. Are there more survivors classified as dead or more dead people classified as survivors?"
      ]
    },
    {
      "cell_type": "code",
      "metadata": {
        "id": "v2pKyHGopUqc",
        "scrolled": true,
        "colab": {
          "base_uri": "https://localhost:8080/",
          "height": 51
        },
        "outputId": "924b2608-dce5-4da8-a8e4-7cf6124642b7"
      },
      "source": [
        "# use confusion matrix to answer this question using the test data\n",
        "from sklearn.metrics import confusion_matrix\n",
        "confusion_matrix(y_test, model.predict(X_test))\n"
      ],
      "execution_count": null,
      "outputs": [
        {
          "output_type": "execute_result",
          "data": {
            "text/plain": [
              "array([[91, 19],\n",
              "       [17, 52]])"
            ]
          },
          "metadata": {
            "tags": []
          },
          "execution_count": 21
        }
      ]
    },
    {
      "cell_type": "code",
      "metadata": {
        "id": "E8-uKoO6ITxC",
        "colab": {
          "base_uri": "https://localhost:8080/",
          "height": 54
        },
        "outputId": "06ec4bee-f2a0-4dd3-dbea-9846e98fd894"
      },
      "source": [
        "print(\"There are more false negatives (people who were marked dead but were alive), therefore: MORE DEAD PEOPLE CLASSIFIED AS SURVIVORS\")"
      ],
      "execution_count": null,
      "outputs": [
        {
          "output_type": "stream",
          "text": [
            "There are more false negatives (people who were marked dead but were alive), therefore: MORE DEAD PEOPLE CLASSIFIED AS SURVIVORS\n"
          ],
          "name": "stdout"
        }
      ]
    },
    {
      "cell_type": "markdown",
      "metadata": {
        "id": "yz3fPs38pUqU"
      },
      "source": [
        "Now let's train a Classifier using KNN algorithm"
      ]
    },
    {
      "cell_type": "markdown",
      "metadata": {
        "id": "cr66jBCYpUqX"
      },
      "source": [
        "**Question 18** : What is the optimal number of neighbors for the KNN algorithm, i.e. the minimal number of neighbors that maximizes the classification accuracy on the test set?  <br>\n",
        "**hint1** : The optimal number is in $[1:50]$ <br>\n",
        "**hint2** : You need to train a model for all 50 possible number of neighbors and for each compute the score of the model on the test set. Keep track of the best model at each iteration and its score"
      ]
    },
    {
      "cell_type": "code",
      "metadata": {
        "id": "YVTo0FQTpUqX",
        "colab": {
          "base_uri": "https://localhost:8080/",
          "height": 71
        },
        "outputId": "571849fa-16e4-4245-b5bd-53ffc9920e69"
      },
      "source": [
        "from sklearn.neighbors import KNeighborsClassifier\n",
        "from sklearn import metrics\n",
        "\n",
        "k_range = range(1,50,2)\n",
        "scores = {}\n",
        "scores_list = []\n",
        "\n",
        "for k in k_range:\n",
        "  model2 = KNeighborsClassifier(n_neighbors=k)\n",
        "  model2.fit(X_train, y_train)\n",
        "  y_pred = model2.predict(X_test)\n",
        "  scores[k] = metrics.accuracy_score(y_test, y_pred)\n",
        "  scores_list.append(metrics.accuracy_score(y_test, y_pred))\n",
        "  \n",
        "\n",
        "print (scores)\n",
        "print (scores_list)\n"
      ],
      "execution_count": null,
      "outputs": [
        {
          "output_type": "stream",
          "text": [
            "{1: 0.6815642458100558, 3: 0.6927374301675978, 5: 0.7150837988826816, 7: 0.7374301675977654, 9: 0.7430167597765364, 11: 0.7318435754189944, 13: 0.7318435754189944, 15: 0.7653631284916201, 17: 0.7486033519553073, 19: 0.7486033519553073, 21: 0.7541899441340782, 23: 0.7597765363128491, 25: 0.7653631284916201, 27: 0.7541899441340782, 29: 0.7597765363128491, 31: 0.7541899441340782, 33: 0.7597765363128491, 35: 0.7541899441340782, 37: 0.7486033519553073, 39: 0.7486033519553073, 41: 0.7318435754189944, 43: 0.7262569832402235, 45: 0.7374301675977654, 47: 0.7430167597765364, 49: 0.7486033519553073}\n",
            "[0.6815642458100558, 0.6927374301675978, 0.7150837988826816, 0.7374301675977654, 0.7430167597765364, 0.7318435754189944, 0.7318435754189944, 0.7653631284916201, 0.7486033519553073, 0.7486033519553073, 0.7541899441340782, 0.7597765363128491, 0.7653631284916201, 0.7541899441340782, 0.7597765363128491, 0.7541899441340782, 0.7597765363128491, 0.7541899441340782, 0.7486033519553073, 0.7486033519553073, 0.7318435754189944, 0.7262569832402235, 0.7374301675977654, 0.7430167597765364, 0.7486033519553073]\n"
          ],
          "name": "stdout"
        }
      ]
    },
    {
      "cell_type": "code",
      "metadata": {
        "id": "vXxfPZqFsgSY",
        "colab": {
          "base_uri": "https://localhost:8080/",
          "height": 296
        },
        "outputId": "9c33269d-71ac-432d-ed66-3272c619c9e7"
      },
      "source": [
        "%matplotlib inline\n",
        "import matplotlib.pyplot as plt\n",
        "\n",
        "plt.plot(k_range, scores_list)\n",
        "plt.xlabel('Value of K for Model2')\n",
        "plt.ylabel('Testing Accuracy')\n"
      ],
      "execution_count": null,
      "outputs": [
        {
          "output_type": "execute_result",
          "data": {
            "text/plain": [
              "Text(0, 0.5, 'Testing Accuracy')"
            ]
          },
          "metadata": {
            "tags": []
          },
          "execution_count": 97
        },
        {
          "output_type": "display_data",
          "data": {
            "image/png": "[encoded data removed]",
            "text/plain": [
              "<Figure size 432x288 with 1 Axes>"
            ]
          },
          "metadata": {
            "tags": [],
            "needs_background": "light"
          }
        }
      ]
    },
    {
      "cell_type": "markdown",
      "metadata": {
        "id": "OTg7FDQQpUqZ"
      },
      "source": [
        "Now let's try a Decision Tree classifier"
      ]
    },
    {
      "cell_type": "markdown",
      "metadata": {
        "id": "htgZ5NVUpUqZ"
      },
      "source": [
        "**Question 19** : What is the value of maxi_depth for the decision Tree algorithm that maximizes the classification accuracy?<br>\n",
        "**hint1** : The optimal number is in $[1:10]$ <br>"
      ]
    },
    {
      "cell_type": "code",
      "metadata": {
        "id": "jHwf1l00vChd",
        "colab": {
          "base_uri": "https://localhost:8080/",
          "height": 34
        },
        "outputId": "0642358d-e0bf-429a-f2c5-eb85e5337cba"
      },
      "source": [
        "# your code here\n",
        "from sklearn.tree import DecisionTreeClassifier\n",
        "model3 = DecisionTreeClassifier(random_state = 0, max_depth = 10)\n",
        "model3.fit(X_train, y_train)\n",
        "print(model3.score(X_test, y_test))"
      ],
      "execution_count": null,
      "outputs": [
        {
          "output_type": "stream",
          "text": [
            "0.8100558659217877\n"
          ],
          "name": "stdout"
        }
      ]
    },
    {
      "cell_type": "code",
      "metadata": {
        "id": "9XmxN3Bry7Gt",
        "colab": {
          "base_uri": "https://localhost:8080/",
          "height": 34
        },
        "outputId": "0fc5fa9a-f84d-45a0-c8b8-6c78c14f6c28"
      },
      "source": [
        "from sklearn.tree import DecisionTreeClassifier\n",
        "model3 = DecisionTreeClassifier(random_state = 0, max_depth = 9)\n",
        "model3.fit(X_train, y_train)\n",
        "print(model3.score(X_test, y_test))"
      ],
      "execution_count": null,
      "outputs": [
        {
          "output_type": "stream",
          "text": [
            "0.8324022346368715\n"
          ],
          "name": "stdout"
        }
      ]
    },
    {
      "cell_type": "code",
      "metadata": {
        "id": "IzXN_eWby9rJ",
        "colab": {
          "base_uri": "https://localhost:8080/",
          "height": 34
        },
        "outputId": "ad6fdbac-83b4-41e2-834a-06f43c1016b8"
      },
      "source": [
        "from sklearn.tree import DecisionTreeClassifier\n",
        "model3 = DecisionTreeClassifier(random_state = 0, max_depth = 8)\n",
        "model3.fit(X_train, y_train)\n",
        "print(model3.score(X_test, y_test))"
      ],
      "execution_count": null,
      "outputs": [
        {
          "output_type": "stream",
          "text": [
            "0.8100558659217877\n"
          ],
          "name": "stdout"
        }
      ]
    },
    {
      "cell_type": "code",
      "metadata": {
        "id": "sRIe71E7y_XC",
        "colab": {
          "base_uri": "https://localhost:8080/",
          "height": 34
        },
        "outputId": "8e4482ed-c8ae-4bc6-d9a4-14c9d5ca8f5a"
      },
      "source": [
        "from sklearn.tree import DecisionTreeClassifier\n",
        "model3 = DecisionTreeClassifier(random_state = 0, max_depth = 7)\n",
        "model3.fit(X_train, y_train)\n",
        "print(model3.score(X_test, y_test))"
      ],
      "execution_count": null,
      "outputs": [
        {
          "output_type": "stream",
          "text": [
            "0.8044692737430168\n"
          ],
          "name": "stdout"
        }
      ]
    },
    {
      "cell_type": "code",
      "metadata": {
        "id": "j7qV-j1rzBN2",
        "colab": {
          "base_uri": "https://localhost:8080/",
          "height": 34
        },
        "outputId": "a53ee43f-aa0a-4501-e613-d4294dac5cc7"
      },
      "source": [
        "from sklearn.tree import DecisionTreeClassifier\n",
        "model3 = DecisionTreeClassifier(random_state = 0, max_depth = 6)\n",
        "model3.fit(X_train, y_train)\n",
        "print(model3.score(X_test, y_test))"
      ],
      "execution_count": null,
      "outputs": [
        {
          "output_type": "stream",
          "text": [
            "0.8268156424581006\n"
          ],
          "name": "stdout"
        }
      ]
    },
    {
      "cell_type": "code",
      "metadata": {
        "id": "GemAo4-lzDA8",
        "colab": {
          "base_uri": "https://localhost:8080/",
          "height": 34
        },
        "outputId": "690c6107-870e-403d-b231-1d4490e3ec07"
      },
      "source": [
        "from sklearn.tree import DecisionTreeClassifier\n",
        "model3 = DecisionTreeClassifier(random_state = 0, max_depth = 5)\n",
        "model3.fit(X_train, y_train)\n",
        "print(model3.score(X_test, y_test))"
      ],
      "execution_count": null,
      "outputs": [
        {
          "output_type": "stream",
          "text": [
            "0.8156424581005587\n"
          ],
          "name": "stdout"
        }
      ]
    },
    {
      "cell_type": "code",
      "metadata": {
        "id": "4N9_Rzq0zEtS",
        "colab": {
          "base_uri": "https://localhost:8080/",
          "height": 34
        },
        "outputId": "0a9a9994-d58e-4427-bcf5-0d5d9bf0f2fe"
      },
      "source": [
        "from sklearn.tree import DecisionTreeClassifier\n",
        "model3 = DecisionTreeClassifier(random_state = 0, max_depth = 4)\n",
        "model3.fit(X_train, y_train)\n",
        "print(model3.score(X_test, y_test))"
      ],
      "execution_count": null,
      "outputs": [
        {
          "output_type": "stream",
          "text": [
            "0.8156424581005587\n"
          ],
          "name": "stdout"
        }
      ]
    },
    {
      "cell_type": "code",
      "metadata": {
        "id": "JKN8BlT3zHNE",
        "colab": {
          "base_uri": "https://localhost:8080/",
          "height": 34
        },
        "outputId": "3060ccde-ea64-4847-e719-15a827efe551"
      },
      "source": [
        "from sklearn.tree import DecisionTreeClassifier\n",
        "model3 = DecisionTreeClassifier(random_state = 0, max_depth = 3)\n",
        "model3.fit(X_train, y_train)\n",
        "print(model3.score(X_test, y_test))"
      ],
      "execution_count": null,
      "outputs": [
        {
          "output_type": "stream",
          "text": [
            "0.8100558659217877\n"
          ],
          "name": "stdout"
        }
      ]
    },
    {
      "cell_type": "code",
      "metadata": {
        "id": "7YV0NqQ1zIWQ",
        "colab": {
          "base_uri": "https://localhost:8080/",
          "height": 34
        },
        "outputId": "5c0fcf46-af7c-4f38-e915-54bdfe8905a0"
      },
      "source": [
        "from sklearn.tree import DecisionTreeClassifier\n",
        "model3 = DecisionTreeClassifier(random_state = 0, max_depth = 2)\n",
        "model3.fit(X_train, y_train)\n",
        "print(model3.score(X_test, y_test))"
      ],
      "execution_count": null,
      "outputs": [
        {
          "output_type": "stream",
          "text": [
            "0.7821229050279329\n"
          ],
          "name": "stdout"
        }
      ]
    },
    {
      "cell_type": "code",
      "metadata": {
        "id": "xYMITCQjzKSN",
        "colab": {
          "base_uri": "https://localhost:8080/",
          "height": 34
        },
        "outputId": "23be0f9f-c20a-4bd7-f651-e7d2f27527f6"
      },
      "source": [
        "from sklearn.tree import DecisionTreeClassifier\n",
        "model3 = DecisionTreeClassifier(random_state = 0, max_depth = 1)\n",
        "model3.fit(X_train, y_train)\n",
        "print(model3.score(X_test, y_test))"
      ],
      "execution_count": null,
      "outputs": [
        {
          "output_type": "stream",
          "text": [
            "0.7877094972067039\n"
          ],
          "name": "stdout"
        }
      ]
    },
    {
      "cell_type": "code",
      "metadata": {
        "id": "O1CC0oQwXTGw",
        "colab": {
          "base_uri": "https://localhost:8080/",
          "height": 71
        },
        "outputId": "f0f451d9-4b41-48d5-d49b-b9d46936fe55"
      },
      "source": [
        "#DRAFT CELL\n",
        "max_depth = 10\n",
        "model4 = DecisionTreeClassifier(max_depth = max_depth)\n",
        "model4.fit(X_train, y_train)\n",
        "accuracy = model4.score(X_test, y_test)\n",
        "\n",
        "list_range = range(1,11)\n",
        "scores1 = {}\n",
        "scores_list1 = []\n",
        "\n",
        "for max_depth in list_range:\n",
        "    model4 = DecisionTreeClassifier(max_depth = max_depth)\n",
        "    model4.fit(X_train, y_train)\n",
        "    scores1[max_depth] = model4.score(X_test, y_test)\n",
        "    scores_list1.append(model4.score(X_test, y_test))\n",
        "\n",
        "print(scores1)\n",
        "print(scores_list1)"
      ],
      "execution_count": null,
      "outputs": [
        {
          "output_type": "stream",
          "text": [
            "{1: 0.7877094972067039, 2: 0.7821229050279329, 3: 0.8100558659217877, 4: 0.8156424581005587, 5: 0.8100558659217877, 6: 0.8268156424581006, 7: 0.8044692737430168, 8: 0.8156424581005587, 9: 0.8379888268156425, 10: 0.8268156424581006}\n",
            "[0.7877094972067039, 0.7821229050279329, 0.8100558659217877, 0.8156424581005587, 0.8100558659217877, 0.8268156424581006, 0.8044692737430168, 0.8156424581005587, 0.8379888268156425, 0.8268156424581006]\n"
          ],
          "name": "stdout"
        }
      ]
    }
  ]
}